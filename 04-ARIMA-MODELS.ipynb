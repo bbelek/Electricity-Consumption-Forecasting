{
 "cells": [
  {
   "cell_type": "markdown",
   "metadata": {
    "colab_type": "text",
    "id": "PhV1yI-0c43o"
   },
   "source": [
    "# Seasonal Autoregressive Integrated Moving Averages Model with Exogenous Variables"
   ]
  },
  {
   "cell_type": "code",
   "execution_count": 1,
   "metadata": {
    "colab": {
     "base_uri": "https://localhost:8080/",
     "height": 238
    },
    "colab_type": "code",
    "executionInfo": {
     "elapsed": 8930,
     "status": "ok",
     "timestamp": 1593134585922,
     "user": {
      "displayName": "BB",
      "photoUrl": "https://lh3.googleusercontent.com/a-/AOh14GiYAiq3AjaJQ1ZhYvlUUzg2nndBOih45X2t2nwSzg=s64",
      "userId": "03290121034815038333"
     },
     "user_tz": -120
    },
    "id": "W9EvPLR_c43s",
    "outputId": "58490b5e-c911-4dc0-fa8f-2006dbeca1f4"
   },
   "outputs": [],
   "source": [
    "!pip install pmdarima\n",
    "import numpy as np\n",
    "import pandas as pd\n",
    "import matplotlib.pyplot as plt\n",
    "import pmdarima as pm\n",
    "import statsmodels.api as sm"
   ]
  },
  {
   "cell_type": "code",
   "execution_count": 2,
   "metadata": {
    "colab": {},
    "colab_type": "code",
    "executionInfo": {
     "elapsed": 8877,
     "status": "ok",
     "timestamp": 1593134585926,
     "user": {
      "displayName": "BB",
      "photoUrl": "https://lh3.googleusercontent.com/a-/AOh14GiYAiq3AjaJQ1ZhYvlUUzg2nndBOih45X2t2nwSzg=s64",
      "userId": "03290121034815038333"
     },
     "user_tz": -120
    },
    "id": "klTrLnPMc435"
   },
   "outputs": [],
   "source": [
    "daily_data = pd.DataFrame(pd.read_csv(\"consumption_daily.csv\",header=0, index_col=0, parse_dates=True, squeeze=True))\n",
    "daily_data_train= pd.DataFrame(daily_data[\"2016\":\"2018\"],copy=True)\n",
    "daily_data_test = pd.DataFrame(daily_data[\"2019\"],copy=True)"
   ]
  },
  {
   "cell_type": "code",
   "execution_count": 3,
   "metadata": {
    "colab": {},
    "colab_type": "code",
    "executionInfo": {
     "elapsed": 8851,
     "status": "ok",
     "timestamp": 1593134585930,
     "user": {
      "displayName": "BB",
      "photoUrl": "https://lh3.googleusercontent.com/a-/AOh14GiYAiq3AjaJQ1ZhYvlUUzg2nndBOih45X2t2nwSzg=s64",
      "userId": "03290121034815038333"
     },
     "user_tz": -120
    },
    "id": "rLr7m8xUc44F"
   },
   "outputs": [],
   "source": [
    "tatil_data = pd.DataFrame(np.zeros(shape=(daily_data.count(0)[0],3)),index=daily_data.index,columns=[\"Tatil\",\"Bayram\",\"Haftasonu\"])\n",
    "tatil_gunleri = [str(x)+ a for a in [\"-01-01\",\"-04-23\",\"-05-01\",\"-05-19\",\"-07-15\",\"-08-30\",\"-10-29\"] for x in range(2016,2020)]\n",
    "tatil_data['Haftasonu'][(daily_data.index.dayofweek==5)|(daily_data.index.dayofweek==6)] = 1\n",
    "for gun in tatil_gunleri:\n",
    "    tatil_data[\"Tatil\"].loc[gun] = 1\n",
    "\n",
    "bayramlar = ['2016-07-04', '2016-07-05', '2016-07-06', '2016-07-07',\n",
    "             '2016-09-11', '2016-09-12', '2016-09-13', '2016-09-14','2016-09-15',\n",
    "             '2017-06-24', '2017-06-25', '2017-06-26', '2017-06-27',\n",
    "             '2017-08-31', '2017-09-01', '2017-09-02', '2017-09-03', '2017-09-04',\n",
    "             '2018-06-14', '2018-06-15', '2018-06-16', '2018-06-17',\n",
    "             '2018-08-20', '2018-08-21', '2018-08-22', '2018-08-23', '2018-08-24', \n",
    "             '2019-06-04', '2019-06-05', '2019-06-06', '2019-06-07', \n",
    "             '2019-08-10', '2019-08-11', '2019-08-12', '2019-08-13', '2019-08-14']\n",
    "#Setting the corresponding dates to 1.\n",
    "for gun in tatil_gunleri:\n",
    "    tatil_data[\"Tatil\"].loc[gun] = 1\n",
    "for gun in bayramlar:\n",
    "    tatil_data[\"Bayram\"].loc[gun] =1"
   ]
  },
  {
   "cell_type": "code",
   "execution_count": 4,
   "metadata": {
    "colab": {
     "base_uri": "https://localhost:8080/",
     "height": 235
    },
    "colab_type": "code",
    "executionInfo": {
     "elapsed": 8821,
     "status": "ok",
     "timestamp": 1593134585934,
     "user": {
      "displayName": "BB",
      "photoUrl": "https://lh3.googleusercontent.com/a-/AOh14GiYAiq3AjaJQ1ZhYvlUUzg2nndBOih45X2t2nwSzg=s64",
      "userId": "03290121034815038333"
     },
     "user_tz": -120
    },
    "id": "jXtn_kPHc44Q",
    "outputId": "95db72d1-cfac-42d6-9f81-e99c7952e736"
   },
   "outputs": [
    {
     "data": {
      "text/html": [
       "<div>\n",
       "<style scoped>\n",
       "    .dataframe tbody tr th:only-of-type {\n",
       "        vertical-align: middle;\n",
       "    }\n",
       "\n",
       "    .dataframe tbody tr th {\n",
       "        vertical-align: top;\n",
       "    }\n",
       "\n",
       "    .dataframe thead th {\n",
       "        text-align: right;\n",
       "    }\n",
       "</style>\n",
       "<table border=\"1\" class=\"dataframe\">\n",
       "  <thead>\n",
       "    <tr style=\"text-align: right;\">\n",
       "      <th></th>\n",
       "      <th>Tatil</th>\n",
       "      <th>Bayram</th>\n",
       "      <th>Haftasonu</th>\n",
       "    </tr>\n",
       "    <tr>\n",
       "      <th>Date</th>\n",
       "      <th></th>\n",
       "      <th></th>\n",
       "      <th></th>\n",
       "    </tr>\n",
       "  </thead>\n",
       "  <tbody>\n",
       "    <tr>\n",
       "      <th>2016-01-01</th>\n",
       "      <td>1.0</td>\n",
       "      <td>0.0</td>\n",
       "      <td>0.0</td>\n",
       "    </tr>\n",
       "    <tr>\n",
       "      <th>2016-01-02</th>\n",
       "      <td>0.0</td>\n",
       "      <td>0.0</td>\n",
       "      <td>1.0</td>\n",
       "    </tr>\n",
       "    <tr>\n",
       "      <th>2016-01-03</th>\n",
       "      <td>0.0</td>\n",
       "      <td>0.0</td>\n",
       "      <td>1.0</td>\n",
       "    </tr>\n",
       "    <tr>\n",
       "      <th>2016-01-04</th>\n",
       "      <td>0.0</td>\n",
       "      <td>0.0</td>\n",
       "      <td>0.0</td>\n",
       "    </tr>\n",
       "    <tr>\n",
       "      <th>2016-01-05</th>\n",
       "      <td>0.0</td>\n",
       "      <td>0.0</td>\n",
       "      <td>0.0</td>\n",
       "    </tr>\n",
       "  </tbody>\n",
       "</table>\n",
       "</div>"
      ],
      "text/plain": [
       "            Tatil  Bayram  Haftasonu\n",
       "Date                                \n",
       "2016-01-01    1.0     0.0        0.0\n",
       "2016-01-02    0.0     0.0        1.0\n",
       "2016-01-03    0.0     0.0        1.0\n",
       "2016-01-04    0.0     0.0        0.0\n",
       "2016-01-05    0.0     0.0        0.0"
      ]
     },
     "execution_count": 4,
     "metadata": {},
     "output_type": "execute_result"
    }
   ],
   "source": [
    "tatil_data.head()"
   ]
  },
  {
   "cell_type": "markdown",
   "metadata": {
    "colab_type": "text",
    "id": "cFFSAQlqc45C"
   },
   "source": [
    "## Searching Models Stepwise through SARIMAX(p,d,q)(P,D,Q)(7) parameters\n",
    "## Building Models with different exogenous features"
   ]
  },
  {
   "cell_type": "code",
   "execution_count": 5,
   "metadata": {
    "colab": {},
    "colab_type": "code",
    "executionInfo": {
     "elapsed": 623475,
     "status": "ok",
     "timestamp": 1593135200726,
     "user": {
      "displayName": "BB",
      "photoUrl": "https://lh3.googleusercontent.com/a-/AOh14GiYAiq3AjaJQ1ZhYvlUUzg2nndBOih45X2t2nwSzg=s64",
      "userId": "03290121034815038333"
     },
     "user_tz": -120
    },
    "id": "8VXtLRlgc45E"
   },
   "outputs": [],
   "source": [
    "model_noExog = pm.auto_arima(daily_data[:\"2018\"],\n",
    "                     max_d = 2, max_p=10, max_q=10, max_P=10, max_Q=10, max_D = 10, seasonal=True,\n",
    "                     m=7,\n",
    "                     stepwise=True, suppress_warnings=True, with_intercept=True,\n",
    "                     error_action='ignore',maxiter = 50)\n",
    "\n"
   ]
  },
  {
   "cell_type": "code",
   "execution_count": 6,
   "metadata": {
    "colab": {},
    "colab_type": "code",
    "executionInfo": {
     "elapsed": 623457,
     "status": "ok",
     "timestamp": 1593135200735,
     "user": {
      "displayName": "BB",
      "photoUrl": "https://lh3.googleusercontent.com/a-/AOh14GiYAiq3AjaJQ1ZhYvlUUzg2nndBOih45X2t2nwSzg=s64",
      "userId": "03290121034815038333"
     },
     "user_tz": -120
    },
    "id": "YjwhaeN3c45R"
   },
   "outputs": [],
   "source": [
    "bayram_df = pd.DataFrame(tatil_data[:\"2018\"][\"Bayram\"])\n",
    "bayram_df.index = daily_data[:\"2018\"].index"
   ]
  },
  {
   "cell_type": "code",
   "execution_count": 7,
   "metadata": {
    "colab": {},
    "colab_type": "code",
    "executionInfo": {
     "elapsed": 737555,
     "status": "ok",
     "timestamp": 1593135314855,
     "user": {
      "displayName": "BB",
      "photoUrl": "https://lh3.googleusercontent.com/a-/AOh14GiYAiq3AjaJQ1ZhYvlUUzg2nndBOih45X2t2nwSzg=s64",
      "userId": "03290121034815038333"
     },
     "user_tz": -120
    },
    "id": "CfKl9LULc45b"
   },
   "outputs": [],
   "source": [
    "model_onlyBayram = pm.auto_arima(daily_data[\"Consumption\"][:\"2018\"], exogenous=bayram_df,\n",
    "                     max_d = 2, max_p=10, max_q=10, max_P=10, max_Q=10, max_D = 10, seasonal=True,\n",
    "                     m=7,\n",
    "                     stepwise=True, suppress_warnings=True, with_intercept=True,\n",
    "                     error_action='ignore',maxiter = 50)"
   ]
  },
  {
   "cell_type": "code",
   "execution_count": 8,
   "metadata": {},
   "outputs": [],
   "source": [
    "tatil_df = pd.DataFrame(tatil_data[:\"2018\"][\"Tatil\"])\n",
    "tatil_df.index = daily_data[:\"2018\"].index"
   ]
  },
  {
   "cell_type": "code",
   "execution_count": 9,
   "metadata": {},
   "outputs": [],
   "source": [
    "model_onlyTatil = pm.auto_arima(daily_data[\"Consumption\"][:\"2018\"], exogenous=tatil_df,\n",
    "                     max_d = 2, max_p=10, max_q=10, max_P=10, max_Q=10, max_D = 10, seasonal=True,\n",
    "                     m=7,\n",
    "                     stepwise=True, suppress_warnings=True, with_intercept=True,\n",
    "                     error_action='ignore',maxiter = 50)"
   ]
  },
  {
   "cell_type": "code",
   "execution_count": 10,
   "metadata": {},
   "outputs": [],
   "source": [
    "haftasonu_df = pd.DataFrame(tatil_data[:\"2018\"][\"Haftasonu\"])\n",
    "haftasonu_df.index = daily_data[:\"2018\"].index"
   ]
  },
  {
   "cell_type": "code",
   "execution_count": 11,
   "metadata": {},
   "outputs": [],
   "source": [
    "model_onlyHaftasonu = pm.auto_arima(daily_data[\"Consumption\"][:\"2018\"], exogenous=haftasonu_df,\n",
    "                     max_d = 2, max_p=10, max_q=10, max_P=10, max_Q=10, max_D = 10, seasonal=True,\n",
    "                     m=7,\n",
    "                     stepwise=True, suppress_warnings=True, with_intercept=True,\n",
    "                     error_action='ignore',maxiter = 50)"
   ]
  },
  {
   "cell_type": "code",
   "execution_count": 12,
   "metadata": {
    "colab": {},
    "colab_type": "code",
    "executionInfo": {
     "elapsed": 737548,
     "status": "ok",
     "timestamp": 1593135314875,
     "user": {
      "displayName": "BB",
      "photoUrl": "https://lh3.googleusercontent.com/a-/AOh14GiYAiq3AjaJQ1ZhYvlUUzg2nndBOih45X2t2nwSzg=s64",
      "userId": "03290121034815038333"
     },
     "user_tz": -120
    },
    "id": "4_P4gfaic45l"
   },
   "outputs": [],
   "source": [
    "bayram_tatil_df = pd.DataFrame(tatil_data[:\"2018\"][[\"Bayram\",\"Tatil\"]])\n",
    "bayram_tatil_df.index = daily_data[:\"2018\"].index\n"
   ]
  },
  {
   "cell_type": "code",
   "execution_count": 13,
   "metadata": {
    "colab": {},
    "colab_type": "code",
    "executionInfo": {
     "elapsed": 1328026,
     "status": "ok",
     "timestamp": 1593135905387,
     "user": {
      "displayName": "BB",
      "photoUrl": "https://lh3.googleusercontent.com/a-/AOh14GiYAiq3AjaJQ1ZhYvlUUzg2nndBOih45X2t2nwSzg=s64",
      "userId": "03290121034815038333"
     },
     "user_tz": -120
    },
    "id": "UfAqnFe7c45y"
   },
   "outputs": [],
   "source": [
    "model_noHaftasonu = pm.auto_arima(daily_data[\"Consumption\"][:\"2018\"], exogenous=bayram_tatil_df,\n",
    "                     max_d = 2, max_p=10, max_q=10, max_P=10, max_Q=10, max_D = 10, seasonal=True,\n",
    "                     m=7,\n",
    "                     stepwise=True, suppress_warnings=True, with_intercept=True,\n",
    "                     error_action='ignore',maxiter = 50)"
   ]
  },
  {
   "cell_type": "code",
   "execution_count": 14,
   "metadata": {},
   "outputs": [],
   "source": [
    "haftasonu_tatil_df = pd.DataFrame(tatil_data[:\"2018\"][[\"Tatil\",\"Haftasonu\"]])\n",
    "haftasonu_tatil_df.index = daily_data[:\"2018\"].index\n"
   ]
  },
  {
   "cell_type": "code",
   "execution_count": 15,
   "metadata": {},
   "outputs": [],
   "source": [
    "model_noBayram = pm.auto_arima(daily_data[\"Consumption\"][:\"2018\"], exogenous=haftasonu_tatil_df,\n",
    "                     max_d = 2, max_p=10, max_q=10, max_P=10, max_Q=10, max_D = 10, seasonal=True,\n",
    "                     m=7,\n",
    "                     stepwise=True, suppress_warnings=True, with_intercept=True,\n",
    "                     error_action='ignore',maxiter = 50)"
   ]
  },
  {
   "cell_type": "code",
   "execution_count": 16,
   "metadata": {
    "colab": {},
    "colab_type": "code",
    "executionInfo": {
     "elapsed": 1328010,
     "status": "ok",
     "timestamp": 1593135905398,
     "user": {
      "displayName": "BB",
      "photoUrl": "https://lh3.googleusercontent.com/a-/AOh14GiYAiq3AjaJQ1ZhYvlUUzg2nndBOih45X2t2nwSzg=s64",
      "userId": "03290121034815038333"
     },
     "user_tz": -120
    },
    "id": "fpZebC2oc457"
   },
   "outputs": [],
   "source": [
    "bayram_hs_df = pd.DataFrame(tatil_data[:\"2018\"][[\"Bayram\",\"Haftasonu\"]])\n",
    "bayram_hs_df.index = daily_data[:\"2018\"].index\n"
   ]
  },
  {
   "cell_type": "code",
   "execution_count": 17,
   "metadata": {
    "colab": {},
    "colab_type": "code",
    "executionInfo": {
     "elapsed": 2071839,
     "status": "ok",
     "timestamp": 1593136649261,
     "user": {
      "displayName": "BB",
      "photoUrl": "https://lh3.googleusercontent.com/a-/AOh14GiYAiq3AjaJQ1ZhYvlUUzg2nndBOih45X2t2nwSzg=s64",
      "userId": "03290121034815038333"
     },
     "user_tz": -120
    },
    "id": "dn48CWKrc46E"
   },
   "outputs": [],
   "source": [
    "model_noTatil = pm.auto_arima(daily_data[\"Consumption\"][:\"2018\"], exogenous=bayram_hs_df,\n",
    "                     max_d = 2, max_p=10, max_q=10, max_P=10, max_Q=10, max_D = 10, seasonal=True,\n",
    "                     m=7,\n",
    "                     stepwise=True, suppress_warnings=True, with_intercept=True,\n",
    "                     error_action='ignore',maxiter = 50)"
   ]
  },
  {
   "cell_type": "code",
   "execution_count": 18,
   "metadata": {
    "colab": {},
    "colab_type": "code",
    "executionInfo": {
     "elapsed": 2351578,
     "status": "ok",
     "timestamp": 1593136929024,
     "user": {
      "displayName": "BB",
      "photoUrl": "https://lh3.googleusercontent.com/a-/AOh14GiYAiq3AjaJQ1ZhYvlUUzg2nndBOih45X2t2nwSzg=s64",
      "userId": "03290121034815038333"
     },
     "user_tz": -120
    },
    "id": "DVfy7WM-c46N"
   },
   "outputs": [],
   "source": [
    "model_all = pm.auto_arima(daily_data[\"Consumption\"][:\"2018\"], exogenous=tatil_data[:\"2018\"],\n",
    "                     max_d = 2, max_p=10, max_q=10, max_P=10, max_Q=10, max_D = 10, seasonal=True,\n",
    "                     m=7,\n",
    "                     stepwise=True, suppress_warnings=True, with_intercept=True,\n",
    "                     error_action='ignore',maxiter = 50)\n"
   ]
  },
  {
   "cell_type": "code",
   "execution_count": 19,
   "metadata": {
    "colab": {},
    "colab_type": "code",
    "executionInfo": {
     "elapsed": 2351555,
     "status": "ok",
     "timestamp": 1593136929029,
     "user": {
      "displayName": "BB",
      "photoUrl": "https://lh3.googleusercontent.com/a-/AOh14GiYAiq3AjaJQ1ZhYvlUUzg2nndBOih45X2t2nwSzg=s64",
      "userId": "03290121034815038333"
     },
     "user_tz": -120
    },
    "id": "8NUibVerc46W"
   },
   "outputs": [],
   "source": [
    "#Models Dictionary\n",
    "models = {\"No Exogenous Model\":model_noExog,\n",
    "          \"Only Bayram Exog. Model\":model_onlyBayram,\n",
    "          \"Only Tatil Exog. Model\":model_onlyTatil,\n",
    "          \"Only Haftasonu Exog. Model\":model_onlyHaftasonu,\n",
    "          \"No Bayram Model\":model_noBayram,\n",
    "          \"No Haftasonu Model\":model_noHaftasonu,\n",
    "          \"No Tatil Model\":model_noTatil,\n",
    "          \"All Including Model\":model_all}"
   ]
  },
  {
   "cell_type": "code",
   "execution_count": 20,
   "metadata": {
    "colab": {
     "base_uri": "https://localhost:8080/",
     "height": 799
    },
    "colab_type": "code",
    "executionInfo": {
     "elapsed": 2351525,
     "status": "ok",
     "timestamp": 1593136929033,
     "user": {
      "displayName": "BB",
      "photoUrl": "https://lh3.googleusercontent.com/a-/AOh14GiYAiq3AjaJQ1ZhYvlUUzg2nndBOih45X2t2nwSzg=s64",
      "userId": "03290121034815038333"
     },
     "user_tz": -120
    },
    "id": "H26NLizMc46f",
    "outputId": "9a80e14a-0c71-455f-b0b3-7f81eee5a2cc"
   },
   "outputs": [
    {
     "data": {
      "text/html": [
       "<table class=\"simpletable\">\n",
       "<caption>SARIMAX Results</caption>\n",
       "<tr>\n",
       "  <th>Dep. Variable:</th>                  <td>y</td>                <th>  No. Observations:  </th>    <td>1096</td>   \n",
       "</tr>\n",
       "<tr>\n",
       "  <th>Model:</th>           <td>SARIMAX(3, 1, 2)x(1, 0, [1], 7)</td> <th>  Log Likelihood     </th> <td>-12835.968</td>\n",
       "</tr>\n",
       "<tr>\n",
       "  <th>Date:</th>                   <td>Wed, 01 Jul 2020</td>         <th>  AIC                </th>  <td>25695.935</td>\n",
       "</tr>\n",
       "<tr>\n",
       "  <th>Time:</th>                       <td>14:28:09</td>             <th>  BIC                </th>  <td>25755.917</td>\n",
       "</tr>\n",
       "<tr>\n",
       "  <th>Sample:</th>                    <td>01-01-2016</td>            <th>  HQIC               </th>  <td>25718.632</td>\n",
       "</tr>\n",
       "<tr>\n",
       "  <th></th>                          <td>- 12-31-2018</td>           <th>                     </th>      <td> </td>    \n",
       "</tr>\n",
       "<tr>\n",
       "  <th>Covariance Type:</th>               <td>opg</td>               <th>                     </th>      <td> </td>    \n",
       "</tr>\n",
       "</table>\n",
       "<table class=\"simpletable\">\n",
       "<tr>\n",
       "      <td></td>         <th>coef</th>     <th>std err</th>      <th>z</th>      <th>P>|z|</th>  <th>[0.025</th>    <th>0.975]</th>  \n",
       "</tr>\n",
       "<tr>\n",
       "  <th>intercept</th> <td>    9.4039</td> <td>   13.052</td> <td>    0.720</td> <td> 0.471</td> <td>  -16.178</td> <td>   34.985</td>\n",
       "</tr>\n",
       "<tr>\n",
       "  <th>Tatil</th>     <td> 8901.1456</td> <td> 5946.594</td> <td>    1.497</td> <td> 0.134</td> <td>-2753.965</td> <td> 2.06e+04</td>\n",
       "</tr>\n",
       "<tr>\n",
       "  <th>Bayram</th>    <td>-7.312e+04</td> <td> 9668.832</td> <td>   -7.563</td> <td> 0.000</td> <td>-9.21e+04</td> <td>-5.42e+04</td>\n",
       "</tr>\n",
       "<tr>\n",
       "  <th>Haftasonu</th> <td>-5.077e+04</td> <td> 1.24e+04</td> <td>   -4.099</td> <td> 0.000</td> <td>-7.51e+04</td> <td>-2.65e+04</td>\n",
       "</tr>\n",
       "<tr>\n",
       "  <th>ar.L1</th>     <td>    0.0543</td> <td>    0.095</td> <td>    0.570</td> <td> 0.568</td> <td>   -0.132</td> <td>    0.241</td>\n",
       "</tr>\n",
       "<tr>\n",
       "  <th>ar.L2</th>     <td>    0.9383</td> <td>    0.096</td> <td>    9.784</td> <td> 0.000</td> <td>    0.750</td> <td>    1.126</td>\n",
       "</tr>\n",
       "<tr>\n",
       "  <th>ar.L3</th>     <td>   -0.1159</td> <td>    0.036</td> <td>   -3.228</td> <td> 0.001</td> <td>   -0.186</td> <td>   -0.046</td>\n",
       "</tr>\n",
       "<tr>\n",
       "  <th>ma.L1</th>     <td>    0.0175</td> <td>    0.129</td> <td>    0.136</td> <td> 0.892</td> <td>   -0.235</td> <td>    0.271</td>\n",
       "</tr>\n",
       "<tr>\n",
       "  <th>ma.L2</th>     <td>   -0.9824</td> <td>    0.129</td> <td>   -7.631</td> <td> 0.000</td> <td>   -1.235</td> <td>   -0.730</td>\n",
       "</tr>\n",
       "<tr>\n",
       "  <th>ar.S.L7</th>   <td>    0.9596</td> <td>    0.009</td> <td>  103.355</td> <td> 0.000</td> <td>    0.941</td> <td>    0.978</td>\n",
       "</tr>\n",
       "<tr>\n",
       "  <th>ma.S.L7</th>   <td>   -0.7761</td> <td>    0.024</td> <td>  -32.558</td> <td> 0.000</td> <td>   -0.823</td> <td>   -0.729</td>\n",
       "</tr>\n",
       "<tr>\n",
       "  <th>sigma2</th>    <td>  1.48e+09</td> <td>    0.029</td> <td> 5.04e+10</td> <td> 0.000</td> <td> 1.48e+09</td> <td> 1.48e+09</td>\n",
       "</tr>\n",
       "</table>\n",
       "<table class=\"simpletable\">\n",
       "<tr>\n",
       "  <th>Ljung-Box (Q):</th>          <td>313.04</td> <th>  Jarque-Bera (JB):  </th> <td>4531.64</td>\n",
       "</tr>\n",
       "<tr>\n",
       "  <th>Prob(Q):</th>                 <td>0.00</td>  <th>  Prob(JB):          </th>  <td>0.00</td>  \n",
       "</tr>\n",
       "<tr>\n",
       "  <th>Heteroskedasticity (H):</th>  <td>0.60</td>  <th>  Skew:              </th>  <td>-0.38</td> \n",
       "</tr>\n",
       "<tr>\n",
       "  <th>Prob(H) (two-sided):</th>     <td>0.00</td>  <th>  Kurtosis:          </th>  <td>12.94</td> \n",
       "</tr>\n",
       "</table><br/><br/>Warnings:<br/>[1] Covariance matrix calculated using the outer product of gradients (complex-step).<br/>[2] Covariance matrix is singular or near-singular, with condition number 1.6e+27. Standard errors may be unstable."
      ],
      "text/plain": [
       "<class 'statsmodels.iolib.summary.Summary'>\n",
       "\"\"\"\n",
       "                                      SARIMAX Results                                      \n",
       "===========================================================================================\n",
       "Dep. Variable:                                   y   No. Observations:                 1096\n",
       "Model:             SARIMAX(3, 1, 2)x(1, 0, [1], 7)   Log Likelihood              -12835.968\n",
       "Date:                             Wed, 01 Jul 2020   AIC                          25695.935\n",
       "Time:                                     14:28:09   BIC                          25755.917\n",
       "Sample:                                 01-01-2016   HQIC                         25718.632\n",
       "                                      - 12-31-2018                                         \n",
       "Covariance Type:                               opg                                         \n",
       "==============================================================================\n",
       "                 coef    std err          z      P>|z|      [0.025      0.975]\n",
       "------------------------------------------------------------------------------\n",
       "intercept      9.4039     13.052      0.720      0.471     -16.178      34.985\n",
       "Tatil       8901.1456   5946.594      1.497      0.134   -2753.965    2.06e+04\n",
       "Bayram     -7.312e+04   9668.832     -7.563      0.000   -9.21e+04   -5.42e+04\n",
       "Haftasonu  -5.077e+04   1.24e+04     -4.099      0.000   -7.51e+04   -2.65e+04\n",
       "ar.L1          0.0543      0.095      0.570      0.568      -0.132       0.241\n",
       "ar.L2          0.9383      0.096      9.784      0.000       0.750       1.126\n",
       "ar.L3         -0.1159      0.036     -3.228      0.001      -0.186      -0.046\n",
       "ma.L1          0.0175      0.129      0.136      0.892      -0.235       0.271\n",
       "ma.L2         -0.9824      0.129     -7.631      0.000      -1.235      -0.730\n",
       "ar.S.L7        0.9596      0.009    103.355      0.000       0.941       0.978\n",
       "ma.S.L7       -0.7761      0.024    -32.558      0.000      -0.823      -0.729\n",
       "sigma2       1.48e+09      0.029   5.04e+10      0.000    1.48e+09    1.48e+09\n",
       "===================================================================================\n",
       "Ljung-Box (Q):                      313.04   Jarque-Bera (JB):              4531.64\n",
       "Prob(Q):                              0.00   Prob(JB):                         0.00\n",
       "Heteroskedasticity (H):               0.60   Skew:                            -0.38\n",
       "Prob(H) (two-sided):                  0.00   Kurtosis:                        12.94\n",
       "===================================================================================\n",
       "\n",
       "Warnings:\n",
       "[1] Covariance matrix calculated using the outer product of gradients (complex-step).\n",
       "[2] Covariance matrix is singular or near-singular, with condition number 1.6e+27. Standard errors may be unstable.\n",
       "\"\"\""
      ]
     },
     "execution_count": 20,
     "metadata": {},
     "output_type": "execute_result"
    }
   ],
   "source": [
    "\n",
    "model_all.summary()"
   ]
  },
  {
   "cell_type": "markdown",
   "metadata": {
    "colab_type": "text",
    "id": "b4AnPqb-c46q",
    "scrolled": true
   },
   "source": [
    "### Fitting models"
   ]
  },
  {
   "cell_type": "code",
   "execution_count": 21,
   "metadata": {
    "colab": {},
    "colab_type": "code",
    "executionInfo": {
     "elapsed": 2390323,
     "status": "ok",
     "timestamp": 1593136967869,
     "user": {
      "displayName": "BB",
      "photoUrl": "https://lh3.googleusercontent.com/a-/AOh14GiYAiq3AjaJQ1ZhYvlUUzg2nndBOih45X2t2nwSzg=s64",
      "userId": "03290121034815038333"
     },
     "user_tz": -120
    },
    "id": "nZPfXxs0c46s"
   },
   "outputs": [],
   "source": [
    "model_noExog_fit = model_noExog.fit(daily_data[\"Consumption\"][:\"2018\"])\n",
    "\n",
    "model_onlyBayram_fit = model_onlyBayram.fit(daily_data[\"Consumption\"][:\"2018\"],exogenous=bayram_df)\n",
    "model_onlyTatil_fit = model_onlyBayram.fit(daily_data[\"Consumption\"][:\"2018\"],exogenous=tatil_df)\n",
    "model_onlyHaftasonu_fit = model_onlyBayram.fit(daily_data[\"Consumption\"][:\"2018\"],exogenous=haftasonu_df)\n",
    "\n",
    "model_noHaftasonu_fit = model_noHaftasonu.fit(daily_data[\"Consumption\"][:\"2018\"],exogenous=bayram_tatil_df)\n",
    "model_noTatil_fit = model_noTatil.fit(daily_data[\"Consumption\"][:\"2018\"],exogenous=bayram_hs_df)\n",
    "model_noBayram_fit = model_noTatil.fit(daily_data[\"Consumption\"][:\"2018\"],exogenous=haftasonu_tatil_df)\n",
    "\n",
    "model_all_fit = model_all.fit(daily_data[\"Consumption\"][:\"2018\"],exogenous=tatil_data[:\"2018\"])\n",
    "\n",
    "\n",
    "models_fit = {\"No Exogenous Model\":model_noExog_fit,\n",
    "          \"Only Bayram Exog. Model\":model_onlyBayram_fit,\n",
    "          \"Only Tatil Exog. Model\":model_onlyTatil_fit,\n",
    "          \"Only Haftasonu Exog. Model\":model_onlyHaftasonu_fit,\n",
    "          \"No Bayram Exog. Model\":model_noBayram_fit,\n",
    "          \"No Haftasonu Model\":model_noHaftasonu_fit,\n",
    "          \"No Tatil Model\":model_noTatil_fit,\n",
    "          \"All Including Model\":model_all_fit}\n",
    "#fitting the daily training data"
   ]
  },
  {
   "cell_type": "code",
   "execution_count": 22,
   "metadata": {
    "colab": {},
    "colab_type": "code",
    "executionInfo": {
     "elapsed": 2390305,
     "status": "ok",
     "timestamp": 1593136967874,
     "user": {
      "displayName": "BB",
      "photoUrl": "https://lh3.googleusercontent.com/a-/AOh14GiYAiq3AjaJQ1ZhYvlUUzg2nndBOih45X2t2nwSzg=s64",
      "userId": "03290121034815038333"
     },
     "user_tz": -120
    },
    "id": "R2fSL_coc461"
   },
   "outputs": [],
   "source": [
    "def forecast_update(testData,model,tatilData):\n",
    "    forecast = pd.DataFrame(np.zeros(testData.index.size),index=testData.index,columns=[\"Consumption\"])\n",
    "    for i,j in testData.iteritems() :\n",
    "        forecast.loc[i]= model.predict(exogenous=np.array(tatilData.loc[i]).reshape(1,-1),n_periods=1)[0]\n",
    "        model.update(testData.loc[i],exogenous=np.array(tatilData.loc[i]).reshape(1,-1))\n",
    "    return forecast\n",
    "\n"
   ]
  },
  {
   "cell_type": "code",
   "execution_count": 23,
   "metadata": {
    "colab": {
     "base_uri": "https://localhost:8080/",
     "height": 34
    },
    "colab_type": "code",
    "executionInfo": {
     "elapsed": 2390288,
     "status": "ok",
     "timestamp": 1593136967880,
     "user": {
      "displayName": "BB",
      "photoUrl": "https://lh3.googleusercontent.com/a-/AOh14GiYAiq3AjaJQ1ZhYvlUUzg2nndBOih45X2t2nwSzg=s64",
      "userId": "03290121034815038333"
     },
     "user_tz": -120
    },
    "id": "sIW-47e3_JOJ",
    "outputId": "ccb33cff-2b0f-474e-b8f2-2ef3a14fd4c6"
   },
   "outputs": [
    {
     "data": {
      "text/plain": [
       "True"
      ]
     },
     "execution_count": 23,
     "metadata": {},
     "output_type": "execute_result"
    }
   ],
   "source": [
    "type(daily_data) is pd.DataFrame"
   ]
  },
  {
   "cell_type": "code",
   "execution_count": 24,
   "metadata": {
    "colab": {},
    "colab_type": "code",
    "executionInfo": {
     "elapsed": 2390266,
     "status": "ok",
     "timestamp": 1593136967883,
     "user": {
      "displayName": "BB",
      "photoUrl": "https://lh3.googleusercontent.com/a-/AOh14GiYAiq3AjaJQ1ZhYvlUUzg2nndBOih45X2t2nwSzg=s64",
      "userId": "03290121034815038333"
     },
     "user_tz": -120
    },
    "id": "h8xjfg4nc469"
   },
   "outputs": [],
   "source": [
    "## EXOGENOUS VARIABLES FOR TEST\n",
    "\n",
    "bayram_b_hs_df = pd.DataFrame(tatil_data[[\"Bayram\",\"Haftasonu\"]][\"2019-01-01\":\"2019-12-31\"])\n",
    "bayram_b_hs_df.index = daily_data[\"2019\"].index\n",
    "\n",
    "bayram_b_t_df = pd.DataFrame(tatil_data[[\"Bayram\",\"Tatil\"]][\"2019-01-01\":\"2019-12-31\"])\n",
    "bayram_b_t_df.index = daily_data[\"2019\"].index\n",
    "\n",
    "bayram_t_hs_df = pd.DataFrame(tatil_data[[\"Tatil\",\"Haftasonu\"]][\"2019-01-01\":\"2019-12-31\"])\n",
    "bayram_t_hs_df.index = daily_data[\"2019\"].index\n",
    "\n",
    "bayram_b_df = pd.DataFrame(tatil_data[\"Bayram\"][\"2019-01-01\":\"2019-12-31\"])\n",
    "bayram_b_df.index = daily_data[\"2019\"].index\n",
    "\n",
    "bayram_t_df = pd.DataFrame(tatil_data[\"Tatil\"][\"2019-01-01\":\"2019-12-31\"])\n",
    "bayram_t_df.index = daily_data[\"2019\"].index\n",
    "\n",
    "bayram_hs_df = pd.DataFrame(tatil_data[\"Haftasonu\"][\"2019-01-01\":\"2019-12-31\"])\n",
    "bayram_hs_df.index = daily_data[\"2019\"].index\n"
   ]
  },
  {
   "cell_type": "code",
   "execution_count": 25,
   "metadata": {
    "colab": {},
    "colab_type": "code",
    "executionInfo": {
     "elapsed": 5080608,
     "status": "ok",
     "timestamp": 1593139658249,
     "user": {
      "displayName": "BB",
      "photoUrl": "https://lh3.googleusercontent.com/a-/AOh14GiYAiq3AjaJQ1ZhYvlUUzg2nndBOih45X2t2nwSzg=s64",
      "userId": "03290121034815038333"
     },
     "user_tz": -120
    },
    "id": "2QQicCRhc47L"
   },
   "outputs": [],
   "source": [
    "#Forecasts with one step at a time and updating the model\n",
    "\n",
    "forecast_onlyBayram = forecast_update(daily_data[\"Consumption\"][\"2019-01-01\":\"2019-12-31\"],model_onlyBayram_fit,bayram_b_df)\n",
    "forecast_onlyTatil = forecast_update(daily_data[\"Consumption\"][\"2019-01-01\":\"2019-12-31\"],model_onlyTatil_fit,bayram_t_df)\n",
    "forecast_onlyHaftasonu = forecast_update(daily_data[\"Consumption\"][\"2019-01-01\":\"2019-12-31\"],model_onlyHaftasonu_fit,bayram_hs_df)\n",
    "\n",
    "\n",
    "forecast_noBayram = forecast_update(daily_data[\"Consumption\"][\"2019-01-01\":\"2019-12-31\"],model_noBayram_fit,bayram_t_hs_df)\n",
    "forecast_noHaftasonu = forecast_update(daily_data[\"Consumption\"][\"2019-01-01\":\"2019-12-31\"],model_noHaftasonu_fit,bayram_b_t_df)\n",
    "forecast_noTatil = forecast_update(daily_data[\"Consumption\"][\"2019-01-01\":\"2019-12-31\"],model_noTatil_fit,bayram_b_hs_df)\n",
    "\n",
    "forecast_all = forecast_update(daily_data[\"Consumption\"][\"2019-01-01\":\"2019-12-31\"],model_all_fit,tatil_data[\"2019-01-01\":\"2019-12-31\"])\n",
    "forecast_noExog = pd.DataFrame(np.zeros(daily_data[\"Consumption\"][\"2019-01-01\":\"2019-12-31\"].index.size),index=daily_data[\"Consumption\"][\"2019-01-01\":\"2019-12-31\"].index,columns=[\"Consumption\"])\n",
    "\n",
    "for i,j in daily_data[\"Consumption\"][\"2019-01-01\":\"2019-12-31\"].iteritems() :\n",
    "      forecast_noExog.loc[i]= model_noExog_fit.predict(n_periods=1)[0]\n",
    "      model_noExog_fit.update(daily_data[\"Consumption\"][\"2019-01-01\":\"2019-12-31\"].loc[i])\n",
    "\n",
    "models_forecast = {\"No Exogenous Model\":forecast_noExog,\n",
    "         \"Only Bayram Exog. Model\":forecast_onlyBayram,\n",
    "         \"Only Tatil Exog. Model\":forecast_onlyTatil,\n",
    "         \"Only Haftasonu Exog. Model\":forecast_onlyHaftasonu,\n",
    "         \"No Bayram Exog. Model\":forecast_noBayram,                  \n",
    "         \"No Haftasonu Model\":forecast_noHaftasonu,\n",
    "        \"No Tatil Model\":forecast_noTatil,\n",
    "         \"All Including Model\":forecast_all}"
   ]
  },
  {
   "cell_type": "code",
   "execution_count": 26,
   "metadata": {
    "colab": {
     "base_uri": "https://localhost:8080/",
     "height": 119
    },
    "colab_type": "code",
    "executionInfo": {
     "elapsed": 5080592,
     "status": "ok",
     "timestamp": 1593139658264,
     "user": {
      "displayName": "BB",
      "photoUrl": "https://lh3.googleusercontent.com/a-/AOh14GiYAiq3AjaJQ1ZhYvlUUzg2nndBOih45X2t2nwSzg=s64",
      "userId": "03290121034815038333"
     },
     "user_tz": -120
    },
    "id": "2zp1SSruc47T",
    "outputId": "996b4ecd-2593-430e-b9c6-3917de85dcac"
   },
   "outputs": [
    {
     "name": "stdout",
     "output_type": "stream",
     "text": [
      "Correlations of forecasts with actual data.\n",
      "No Exogenous Model : 0.9356530711339008\n",
      "Only Bayram Exog. Model : 0.9250403050758281\n",
      "Only Tatil Exog. Model : 0.8769819669674958\n",
      "Only Haftasonu Exog. Model : 0.9158049279429714\n",
      "No Bayram Exog. Model : 0.939136259967437\n",
      "No Haftasonu Model : 0.9337786075145919\n",
      "No Tatil Model : 0.9096410617187723\n",
      "All Including Model : 0.9350768649465186\n"
     ]
    }
   ],
   "source": [
    "#Correlations of forecasts with actual data.\n",
    "print(\"Correlations of forecasts with actual data.\")\n",
    "for model in models_forecast:\n",
    "    correlation = daily_data_test[\"2019-01-01\":\"2019-12-31\"].Consumption.corr(models_forecast[model].Consumption)\n",
    "    print(model,\":\",correlation)"
   ]
  },
  {
   "cell_type": "code",
   "execution_count": 27,
   "metadata": {
    "colab": {
     "base_uri": "https://localhost:8080/",
     "height": 697
    },
    "colab_type": "code",
    "executionInfo": {
     "elapsed": 5082254,
     "status": "ok",
     "timestamp": 1593139660023,
     "user": {
      "displayName": "BB",
      "photoUrl": "https://lh3.googleusercontent.com/a-/AOh14GiYAiq3AjaJQ1ZhYvlUUzg2nndBOih45X2t2nwSzg=s64",
      "userId": "03290121034815038333"
     },
     "user_tz": -120
    },
    "id": "DrGNj98tc47t",
    "outputId": "1ef5fb3e-c518-4b2e-e6ae-be59722edb9e"
   },
   "outputs": [
    {
     "name": "stdout",
     "output_type": "stream",
     "text": [
      "\n",
      "\n",
      "---------- No Exogenous Model ----------\n",
      "\n",
      "\n",
      "---------- Only Bayram Exog. Model ----------\n",
      "\n",
      "\n",
      "---------- Only Tatil Exog. Model ----------\n",
      "\n",
      "\n",
      "---------- Only Haftasonu Exog. Model ----------\n",
      "\n",
      "\n",
      "---------- No Bayram Exog. Model ----------\n",
      "\n",
      "\n",
      "---------- No Haftasonu Model ----------\n",
      "\n",
      "\n",
      "---------- No Tatil Model ----------\n",
      "\n",
      "\n",
      "---------- All Including Model ----------\n"
     ]
    }
   ],
   "source": [
    "mapes = {}\n",
    "for model in models_forecast :\n",
    "    print(\"\\n\")\n",
    "    print(\"-\"*10,model,\"-\"*10)\n",
    "    errors = (daily_data_test[\"2019-01-01\":\"2019-12-31\"]-models_forecast[model])\n",
    "    errors_percentage = ((errors/daily_data_test[\"2019-01-01\":\"2019-12-31\"])*100)\n",
    "    MPE = errors_percentage.mean()[0]\n",
    "    MAPE = abs(errors_percentage).mean()[0]\n",
    "    mapes[model] = MAPE "
   ]
  },
  {
   "cell_type": "code",
   "execution_count": 28,
   "metadata": {
    "colab": {
     "base_uri": "https://localhost:8080/",
     "height": 71
    },
    "colab_type": "code",
    "executionInfo": {
     "elapsed": 648,
     "status": "ok",
     "timestamp": 1593139804727,
     "user": {
      "displayName": "BB",
      "photoUrl": "https://lh3.googleusercontent.com/a-/AOh14GiYAiq3AjaJQ1ZhYvlUUzg2nndBOih45X2t2nwSzg=s64",
      "userId": "03290121034815038333"
     },
     "user_tz": -120
    },
    "id": "OK54oVj8c474",
    "outputId": "bb6ab115-0dbb-4dcf-9b0d-19c772b934c8"
   },
   "outputs": [
    {
     "name": "stdout",
     "output_type": "stream",
     "text": [
      "Best Mape is:  No Bayram Exog. Model\n"
     ]
    }
   ],
   "source": [
    "print(\"Best Mape is: \",min(mapes, key=mapes.get))"
   ]
  },
  {
   "cell_type": "code",
   "execution_count": 29,
   "metadata": {
    "colab": {
     "base_uri": "https://localhost:8080/",
     "height": 608
    },
    "colab_type": "code",
    "executionInfo": {
     "elapsed": 675,
     "status": "ok",
     "timestamp": 1593139806397,
     "user": {
      "displayName": "BB",
      "photoUrl": "https://lh3.googleusercontent.com/a-/AOh14GiYAiq3AjaJQ1ZhYvlUUzg2nndBOih45X2t2nwSzg=s64",
      "userId": "03290121034815038333"
     },
     "user_tz": -120
    },
    "id": "bVUtnumRc48B",
    "outputId": "b77123f5-803d-494b-c819-192e0d92b0de"
   },
   "outputs": [
    {
     "data": {
      "text/html": [
       "<table class=\"simpletable\">\n",
       "<caption>SARIMAX Results</caption>\n",
       "<tr>\n",
       "  <th>Dep. Variable:</th>                 <td>y</td>               <th>  No. Observations:  </th>    <td>1096</td>   \n",
       "</tr>\n",
       "<tr>\n",
       "  <th>Model:</th>           <td>SARIMAX(4, 1, 2)x(1, 0, 2, 7)</td> <th>  Log Likelihood     </th> <td>-12837.633</td>\n",
       "</tr>\n",
       "<tr>\n",
       "  <th>Date:</th>                  <td>Wed, 01 Jul 2020</td>        <th>  AIC                </th>  <td>25701.265</td>\n",
       "</tr>\n",
       "<tr>\n",
       "  <th>Time:</th>                      <td>15:10:48</td>            <th>  BIC                </th>  <td>25766.246</td>\n",
       "</tr>\n",
       "<tr>\n",
       "  <th>Sample:</th>                   <td>01-01-2016</td>           <th>  HQIC               </th>  <td>25725.854</td>\n",
       "</tr>\n",
       "<tr>\n",
       "  <th></th>                         <td>- 12-31-2018</td>          <th>                     </th>      <td> </td>    \n",
       "</tr>\n",
       "<tr>\n",
       "  <th>Covariance Type:</th>              <td>opg</td>              <th>                     </th>      <td> </td>    \n",
       "</tr>\n",
       "</table>\n",
       "<table class=\"simpletable\">\n",
       "<tr>\n",
       "      <td></td>         <th>coef</th>     <th>std err</th>      <th>z</th>      <th>P>|z|</th>  <th>[0.025</th>    <th>0.975]</th>  \n",
       "</tr>\n",
       "<tr>\n",
       "  <th>intercept</th> <td>   -4.3125</td> <td>   29.327</td> <td>   -0.147</td> <td> 0.883</td> <td>  -61.792</td> <td>   53.167</td>\n",
       "</tr>\n",
       "<tr>\n",
       "  <th>Tatil</th>     <td> 1.067e+04</td> <td> 4598.289</td> <td>    2.321</td> <td> 0.020</td> <td> 1661.883</td> <td> 1.97e+04</td>\n",
       "</tr>\n",
       "<tr>\n",
       "  <th>Haftasonu</th> <td>-5.055e+04</td> <td>  1.1e+04</td> <td>   -4.605</td> <td> 0.000</td> <td>-7.21e+04</td> <td> -2.9e+04</td>\n",
       "</tr>\n",
       "<tr>\n",
       "  <th>ar.L1</th>     <td>    0.2961</td> <td>    0.093</td> <td>    3.181</td> <td> 0.001</td> <td>    0.114</td> <td>    0.478</td>\n",
       "</tr>\n",
       "<tr>\n",
       "  <th>ar.L2</th>     <td>    0.7307</td> <td>    0.128</td> <td>    5.724</td> <td> 0.000</td> <td>    0.480</td> <td>    0.981</td>\n",
       "</tr>\n",
       "<tr>\n",
       "  <th>ar.L3</th>     <td>   -0.1253</td> <td>    0.045</td> <td>   -2.813</td> <td> 0.005</td> <td>   -0.213</td> <td>   -0.038</td>\n",
       "</tr>\n",
       "<tr>\n",
       "  <th>ar.L4</th>     <td>   -0.1352</td> <td>    0.043</td> <td>   -3.131</td> <td> 0.002</td> <td>   -0.220</td> <td>   -0.051</td>\n",
       "</tr>\n",
       "<tr>\n",
       "  <th>ma.L1</th>     <td>   -0.1056</td> <td>    0.090</td> <td>   -1.174</td> <td> 0.240</td> <td>   -0.282</td> <td>    0.071</td>\n",
       "</tr>\n",
       "<tr>\n",
       "  <th>ma.L2</th>     <td>   -0.8096</td> <td>    0.099</td> <td>   -8.214</td> <td> 0.000</td> <td>   -1.003</td> <td>   -0.616</td>\n",
       "</tr>\n",
       "<tr>\n",
       "  <th>ar.S.L7</th>   <td>    0.9637</td> <td>    0.009</td> <td>  110.499</td> <td> 0.000</td> <td>    0.947</td> <td>    0.981</td>\n",
       "</tr>\n",
       "<tr>\n",
       "  <th>ma.S.L7</th>   <td>   -0.7453</td> <td>    0.031</td> <td>  -24.113</td> <td> 0.000</td> <td>   -0.806</td> <td>   -0.685</td>\n",
       "</tr>\n",
       "<tr>\n",
       "  <th>ma.S.L14</th>  <td>   -0.0497</td> <td>    0.033</td> <td>   -1.520</td> <td> 0.128</td> <td>   -0.114</td> <td>    0.014</td>\n",
       "</tr>\n",
       "<tr>\n",
       "  <th>sigma2</th>    <td> 1.438e+09</td> <td>    0.049</td> <td> 2.95e+10</td> <td> 0.000</td> <td> 1.44e+09</td> <td> 1.44e+09</td>\n",
       "</tr>\n",
       "</table>\n",
       "<table class=\"simpletable\">\n",
       "<tr>\n",
       "  <th>Ljung-Box (Q):</th>          <td>249.33</td> <th>  Jarque-Bera (JB):  </th> <td>3802.08</td>\n",
       "</tr>\n",
       "<tr>\n",
       "  <th>Prob(Q):</th>                 <td>0.00</td>  <th>  Prob(JB):          </th>  <td>0.00</td>  \n",
       "</tr>\n",
       "<tr>\n",
       "  <th>Heteroskedasticity (H):</th>  <td>0.61</td>  <th>  Skew:              </th>  <td>-0.53</td> \n",
       "</tr>\n",
       "<tr>\n",
       "  <th>Prob(H) (two-sided):</th>     <td>0.00</td>  <th>  Kurtosis:          </th>  <td>12.07</td> \n",
       "</tr>\n",
       "</table><br/><br/>Warnings:<br/>[1] Covariance matrix calculated using the outer product of gradients (complex-step).<br/>[2] Covariance matrix is singular or near-singular, with condition number 3.65e+27. Standard errors may be unstable."
      ],
      "text/plain": [
       "<class 'statsmodels.iolib.summary.Summary'>\n",
       "\"\"\"\n",
       "                                     SARIMAX Results                                     \n",
       "=========================================================================================\n",
       "Dep. Variable:                                 y   No. Observations:                 1096\n",
       "Model:             SARIMAX(4, 1, 2)x(1, 0, 2, 7)   Log Likelihood              -12837.633\n",
       "Date:                           Wed, 01 Jul 2020   AIC                          25701.265\n",
       "Time:                                   15:10:48   BIC                          25766.246\n",
       "Sample:                               01-01-2016   HQIC                         25725.854\n",
       "                                    - 12-31-2018                                         \n",
       "Covariance Type:                             opg                                         \n",
       "==============================================================================\n",
       "                 coef    std err          z      P>|z|      [0.025      0.975]\n",
       "------------------------------------------------------------------------------\n",
       "intercept     -4.3125     29.327     -0.147      0.883     -61.792      53.167\n",
       "Tatil       1.067e+04   4598.289      2.321      0.020    1661.883    1.97e+04\n",
       "Haftasonu  -5.055e+04    1.1e+04     -4.605      0.000   -7.21e+04    -2.9e+04\n",
       "ar.L1          0.2961      0.093      3.181      0.001       0.114       0.478\n",
       "ar.L2          0.7307      0.128      5.724      0.000       0.480       0.981\n",
       "ar.L3         -0.1253      0.045     -2.813      0.005      -0.213      -0.038\n",
       "ar.L4         -0.1352      0.043     -3.131      0.002      -0.220      -0.051\n",
       "ma.L1         -0.1056      0.090     -1.174      0.240      -0.282       0.071\n",
       "ma.L2         -0.8096      0.099     -8.214      0.000      -1.003      -0.616\n",
       "ar.S.L7        0.9637      0.009    110.499      0.000       0.947       0.981\n",
       "ma.S.L7       -0.7453      0.031    -24.113      0.000      -0.806      -0.685\n",
       "ma.S.L14      -0.0497      0.033     -1.520      0.128      -0.114       0.014\n",
       "sigma2      1.438e+09      0.049   2.95e+10      0.000    1.44e+09    1.44e+09\n",
       "===================================================================================\n",
       "Ljung-Box (Q):                      249.33   Jarque-Bera (JB):              3802.08\n",
       "Prob(Q):                              0.00   Prob(JB):                         0.00\n",
       "Heteroskedasticity (H):               0.61   Skew:                            -0.53\n",
       "Prob(H) (two-sided):                  0.00   Kurtosis:                        12.07\n",
       "===================================================================================\n",
       "\n",
       "Warnings:\n",
       "[1] Covariance matrix calculated using the outer product of gradients (complex-step).\n",
       "[2] Covariance matrix is singular or near-singular, with condition number 3.65e+27. Standard errors may be unstable.\n",
       "\"\"\""
      ]
     },
     "execution_count": 29,
     "metadata": {},
     "output_type": "execute_result"
    }
   ],
   "source": [
    "model_noBayram.summary()"
   ]
  },
  {
   "cell_type": "markdown",
   "metadata": {},
   "source": [
    "# Saving the best models predicts"
   ]
  },
  {
   "cell_type": "code",
   "execution_count": 30,
   "metadata": {
    "colab": {},
    "colab_type": "code",
    "executionInfo": {
     "elapsed": 5081965,
     "status": "ok",
     "timestamp": 1593139660052,
     "user": {
      "displayName": "BB",
      "photoUrl": "https://lh3.googleusercontent.com/a-/AOh14GiYAiq3AjaJQ1ZhYvlUUzg2nndBOih45X2t2nwSzg=s64",
      "userId": "03290121034815038333"
     },
     "user_tz": -120
    },
    "id": "wzRfZteuc49T"
   },
   "outputs": [],
   "source": [
    "index_column = pd.date_range(start ='2019-1-1', end = '2019-12-31', freq ='D')\n",
    "best_pred = pd.DataFrame(models_forecast[min(mapes, key=mapes.get)],index=index_column)\n",
    "best_pred.to_csv(\"the_best_arima_pred.csv\",index = True)\n"
   ]
  },
  {
   "cell_type": "code",
   "execution_count": 31,
   "metadata": {},
   "outputs": [],
   "source": [
    "mapes_df = pd.DataFrame.from_dict(mapes, orient='index')\n",
    "mapes_df.to_csv(\"mapes_arima.csv\",index=True)"
   ]
  },
  {
   "cell_type": "code",
   "execution_count": null,
   "metadata": {},
   "outputs": [],
   "source": []
  }
 ],
 "metadata": {
  "colab": {
   "collapsed_sections": [],
   "name": "03-SARIMAX-model-vLast.ipynb",
   "provenance": []
  },
  "kernelspec": {
   "display_name": "Python 3",
   "language": "python",
   "name": "python3"
  },
  "language_info": {
   "codemirror_mode": {
    "name": "ipython",
    "version": 3
   },
   "file_extension": ".py",
   "mimetype": "text/x-python",
   "name": "python",
   "nbconvert_exporter": "python",
   "pygments_lexer": "ipython3",
   "version": "3.7.7"
  }
 },
 "nbformat": 4,
 "nbformat_minor": 1
}
