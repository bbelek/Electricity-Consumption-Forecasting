{
 "cells": [
  {
   "cell_type": "markdown",
   "metadata": {
    "colab_type": "text",
    "id": "PhV1yI-0c43o"
   },
   "source": [
    "# Seasonal Autoregressive Integrated Moving Averages Model with Exogenous Variables"
   ]
  },
  {
   "cell_type": "code",
   "execution_count": 1,
   "metadata": {
    "colab": {
     "base_uri": "https://localhost:8080/",
     "height": 238
    },
    "colab_type": "code",
    "executionInfo": {
     "elapsed": 8930,
     "status": "ok",
     "timestamp": 1593134585922,
     "user": {
      "displayName": "BB",
      "photoUrl": "https://lh3.googleusercontent.com/a-/AOh14GiYAiq3AjaJQ1ZhYvlUUzg2nndBOih45X2t2nwSzg=s64",
      "userId": "03290121034815038333"
     },
     "user_tz": -120
    },
    "id": "W9EvPLR_c43s",
    "outputId": "58490b5e-c911-4dc0-fa8f-2006dbeca1f4"
   },
   "outputs": [
    {
     "name": "stdout",
     "output_type": "stream",
     "text": [
      "Requirement already satisfied: pmdarima in c:\\programdata\\anaconda3\\lib\\site-packages (1.6.1)\n",
      "Requirement already satisfied: pandas>=0.19 in c:\\programdata\\anaconda3\\lib\\site-packages (from pmdarima) (1.0.1)\n",
      "Requirement already satisfied: scikit-learn>=0.22 in c:\\programdata\\anaconda3\\lib\\site-packages (from pmdarima) (0.22.1)\n",
      "Requirement already satisfied: urllib3 in c:\\programdata\\anaconda3\\lib\\site-packages (from pmdarima) (1.25.8)\n",
      "Requirement already satisfied: numpy>=1.17.3 in c:\\programdata\\anaconda3\\lib\\site-packages (from pmdarima) (1.18.1)\n",
      "Requirement already satisfied: statsmodels>=0.11 in c:\\programdata\\anaconda3\\lib\\site-packages (from pmdarima) (0.11.0)\n",
      "Requirement already satisfied: joblib>=0.11 in c:\\programdata\\anaconda3\\lib\\site-packages (from pmdarima) (0.14.1)\n",
      "Requirement already satisfied: scipy>=1.3.2 in c:\\programdata\\anaconda3\\lib\\site-packages (from pmdarima) (1.4.1)\n",
      "Requirement already satisfied: Cython<0.29.18,>=0.29 in c:\\programdata\\anaconda3\\lib\\site-packages (from pmdarima) (0.29.15)\n",
      "Requirement already satisfied: python-dateutil>=2.6.1 in c:\\programdata\\anaconda3\\lib\\site-packages (from pandas>=0.19->pmdarima) (2.8.1)\n",
      "Requirement already satisfied: pytz>=2017.2 in c:\\programdata\\anaconda3\\lib\\site-packages (from pandas>=0.19->pmdarima) (2019.3)\n",
      "Requirement already satisfied: patsy>=0.5 in c:\\programdata\\anaconda3\\lib\\site-packages (from statsmodels>=0.11->pmdarima) (0.5.1)\n",
      "Requirement already satisfied: six>=1.5 in c:\\programdata\\anaconda3\\lib\\site-packages (from python-dateutil>=2.6.1->pandas>=0.19->pmdarima) (1.14.0)\n"
     ]
    }
   ],
   "source": [
    "!pip install pmdarima\n",
    "\n",
    "import numpy as np\n",
    "import pandas as pd\n",
    "import matplotlib.pyplot as plt\n",
    "import pmdarima as pm\n",
    "import statsmodels.api as sm"
   ]
  },
  {
   "cell_type": "code",
   "execution_count": 2,
   "metadata": {
    "colab": {},
    "colab_type": "code",
    "executionInfo": {
     "elapsed": 8877,
     "status": "ok",
     "timestamp": 1593134585926,
     "user": {
      "displayName": "BB",
      "photoUrl": "https://lh3.googleusercontent.com/a-/AOh14GiYAiq3AjaJQ1ZhYvlUUzg2nndBOih45X2t2nwSzg=s64",
      "userId": "03290121034815038333"
     },
     "user_tz": -120
    },
    "id": "klTrLnPMc435"
   },
   "outputs": [],
   "source": [
    "daily_data = pd.DataFrame(pd.read_csv(\"consumption_daily.csv\",header=0, index_col=0, parse_dates=True, squeeze=True))\n",
    "daily_data_train= pd.DataFrame(daily_data[\"2016\":\"2018\"],copy=True)\n",
    "daily_data_test = pd.DataFrame(daily_data[\"2019\"],copy=True)"
   ]
  },
  {
   "cell_type": "code",
   "execution_count": 3,
   "metadata": {
    "colab": {},
    "colab_type": "code",
    "executionInfo": {
     "elapsed": 8851,
     "status": "ok",
     "timestamp": 1593134585930,
     "user": {
      "displayName": "BB",
      "photoUrl": "https://lh3.googleusercontent.com/a-/AOh14GiYAiq3AjaJQ1ZhYvlUUzg2nndBOih45X2t2nwSzg=s64",
      "userId": "03290121034815038333"
     },
     "user_tz": -120
    },
    "id": "rLr7m8xUc44F"
   },
   "outputs": [],
   "source": [
    "tatil_data = pd.DataFrame(np.zeros(shape=(daily_data.count(0)[0],3)),index=daily_data.index,columns=[\"Tatil\",\"Bayram\",\"Haftasonu\"])\n",
    "tatil_gunleri = [str(x)+ a for a in [\"-01-01\",\"-04-23\",\"-05-01\",\"-05-19\",\"-07-15\",\"-08-30\",\"-10-29\"] for x in range(2016,2020)]\n",
    "tatil_data['Haftasonu'][(daily_data.index.dayofweek==5)|(daily_data.index.dayofweek==6)] = 1\n",
    "for gun in tatil_gunleri:\n",
    "    tatil_data[\"Tatil\"].loc[gun] = 1\n",
    "\n",
    "bayramlar = ['2016-07-04', '2016-07-05', '2016-07-06', '2016-07-07',\n",
    "             '2016-09-11', '2016-09-12', '2016-09-13', '2016-09-14','2016-09-15',\n",
    "             '2017-06-24', '2017-06-25', '2017-06-26', '2017-06-27',\n",
    "             '2017-08-31', '2017-09-01', '2017-09-02', '2017-09-03', '2017-09-04',\n",
    "             '2018-06-14', '2018-06-15', '2018-06-16', '2018-06-17',\n",
    "             '2018-08-20', '2018-08-21', '2018-08-22', '2018-08-23', '2018-08-24', \n",
    "             '2019-06-04', '2019-06-05', '2019-06-06', '2019-06-07', \n",
    "             '2019-08-10', '2019-08-11', '2019-08-12', '2019-08-13', '2019-08-14']\n",
    "#Setting the corresponding dates to 1.\n",
    "for gun in tatil_gunleri:\n",
    "    tatil_data[\"Tatil\"].loc[gun] = 1\n",
    "for gun in bayramlar:\n",
    "    tatil_data[\"Bayram\"].loc[gun] =1"
   ]
  },
  {
   "cell_type": "code",
   "execution_count": 4,
   "metadata": {
    "colab": {
     "base_uri": "https://localhost:8080/",
     "height": 235
    },
    "colab_type": "code",
    "executionInfo": {
     "elapsed": 8821,
     "status": "ok",
     "timestamp": 1593134585934,
     "user": {
      "displayName": "BB",
      "photoUrl": "https://lh3.googleusercontent.com/a-/AOh14GiYAiq3AjaJQ1ZhYvlUUzg2nndBOih45X2t2nwSzg=s64",
      "userId": "03290121034815038333"
     },
     "user_tz": -120
    },
    "id": "jXtn_kPHc44Q",
    "outputId": "95db72d1-cfac-42d6-9f81-e99c7952e736"
   },
   "outputs": [
    {
     "data": {
      "text/html": [
       "<div>\n",
       "<style scoped>\n",
       "    .dataframe tbody tr th:only-of-type {\n",
       "        vertical-align: middle;\n",
       "    }\n",
       "\n",
       "    .dataframe tbody tr th {\n",
       "        vertical-align: top;\n",
       "    }\n",
       "\n",
       "    .dataframe thead th {\n",
       "        text-align: right;\n",
       "    }\n",
       "</style>\n",
       "<table border=\"1\" class=\"dataframe\">\n",
       "  <thead>\n",
       "    <tr style=\"text-align: right;\">\n",
       "      <th></th>\n",
       "      <th>Tatil</th>\n",
       "      <th>Bayram</th>\n",
       "      <th>Haftasonu</th>\n",
       "    </tr>\n",
       "    <tr>\n",
       "      <th>Date</th>\n",
       "      <th></th>\n",
       "      <th></th>\n",
       "      <th></th>\n",
       "    </tr>\n",
       "  </thead>\n",
       "  <tbody>\n",
       "    <tr>\n",
       "      <th>2016-01-01</th>\n",
       "      <td>1.0</td>\n",
       "      <td>0.0</td>\n",
       "      <td>0.0</td>\n",
       "    </tr>\n",
       "    <tr>\n",
       "      <th>2016-01-02</th>\n",
       "      <td>0.0</td>\n",
       "      <td>0.0</td>\n",
       "      <td>1.0</td>\n",
       "    </tr>\n",
       "    <tr>\n",
       "      <th>2016-01-03</th>\n",
       "      <td>0.0</td>\n",
       "      <td>0.0</td>\n",
       "      <td>1.0</td>\n",
       "    </tr>\n",
       "    <tr>\n",
       "      <th>2016-01-04</th>\n",
       "      <td>0.0</td>\n",
       "      <td>0.0</td>\n",
       "      <td>0.0</td>\n",
       "    </tr>\n",
       "    <tr>\n",
       "      <th>2016-01-05</th>\n",
       "      <td>0.0</td>\n",
       "      <td>0.0</td>\n",
       "      <td>0.0</td>\n",
       "    </tr>\n",
       "  </tbody>\n",
       "</table>\n",
       "</div>"
      ],
      "text/plain": [
       "            Tatil  Bayram  Haftasonu\n",
       "Date                                \n",
       "2016-01-01    1.0     0.0        0.0\n",
       "2016-01-02    0.0     0.0        1.0\n",
       "2016-01-03    0.0     0.0        1.0\n",
       "2016-01-04    0.0     0.0        0.0\n",
       "2016-01-05    0.0     0.0        0.0"
      ]
     },
     "execution_count": 4,
     "metadata": {},
     "output_type": "execute_result"
    }
   ],
   "source": [
    "tatil_data.head()"
   ]
  },
  {
   "cell_type": "markdown",
   "metadata": {
    "colab_type": "text",
    "id": "cFFSAQlqc45C"
   },
   "source": [
    "## Searching Models Stepwise through SARIMAX(p,d,q)(P,D,Q)(7) parameters\n",
    "## Building Models with different exogenous features"
   ]
  },
  {
   "cell_type": "code",
   "execution_count": 5,
   "metadata": {
    "colab": {},
    "colab_type": "code",
    "executionInfo": {
     "elapsed": 623475,
     "status": "ok",
     "timestamp": 1593135200726,
     "user": {
      "displayName": "BB",
      "photoUrl": "https://lh3.googleusercontent.com/a-/AOh14GiYAiq3AjaJQ1ZhYvlUUzg2nndBOih45X2t2nwSzg=s64",
      "userId": "03290121034815038333"
     },
     "user_tz": -120
    },
    "id": "8VXtLRlgc45E"
   },
   "outputs": [],
   "source": [
    "model_noExog = pm.auto_arima(daily_data[:\"2018\"],\n",
    "                     max_d = 2, max_p=10, max_q=10, max_P=10, max_Q=10, max_D = 10, seasonal=True,\n",
    "                     m=7,\n",
    "                     stepwise=True, suppress_warnings=True, with_intercept=True,\n",
    "                     error_action='ignore',maxiter = 50)\n",
    "\n"
   ]
  },
  {
   "cell_type": "code",
   "execution_count": 6,
   "metadata": {
    "colab": {},
    "colab_type": "code",
    "executionInfo": {
     "elapsed": 623457,
     "status": "ok",
     "timestamp": 1593135200735,
     "user": {
      "displayName": "BB",
      "photoUrl": "https://lh3.googleusercontent.com/a-/AOh14GiYAiq3AjaJQ1ZhYvlUUzg2nndBOih45X2t2nwSzg=s64",
      "userId": "03290121034815038333"
     },
     "user_tz": -120
    },
    "id": "YjwhaeN3c45R"
   },
   "outputs": [],
   "source": [
    "bayram_df = pd.DataFrame(tatil_data[:\"2018\"][\"Bayram\"])\n",
    "bayram_df.index = daily_data[:\"2018\"].index"
   ]
  },
  {
   "cell_type": "code",
   "execution_count": 7,
   "metadata": {
    "colab": {},
    "colab_type": "code",
    "executionInfo": {
     "elapsed": 737555,
     "status": "ok",
     "timestamp": 1593135314855,
     "user": {
      "displayName": "BB",
      "photoUrl": "https://lh3.googleusercontent.com/a-/AOh14GiYAiq3AjaJQ1ZhYvlUUzg2nndBOih45X2t2nwSzg=s64",
      "userId": "03290121034815038333"
     },
     "user_tz": -120
    },
    "id": "CfKl9LULc45b"
   },
   "outputs": [],
   "source": [
    "model_onlyBayram = pm.auto_arima(daily_data[\"Consumption\"][:\"2018\"], exogenous=bayram_df,\n",
    "                     max_d = 2, max_p=10, max_q=10, max_P=10, max_Q=10, max_D = 10, seasonal=True,\n",
    "                     m=7,\n",
    "                     stepwise=True, suppress_warnings=True, with_intercept=True,\n",
    "                     error_action='ignore',maxiter = 50)"
   ]
  },
  {
   "cell_type": "code",
   "execution_count": 8,
   "metadata": {},
   "outputs": [],
   "source": [
    "tatil_df = pd.DataFrame(tatil_data[:\"2018\"][\"Tatil\"])\n",
    "tatil_df.index = daily_data[:\"2018\"].index"
   ]
  },
  {
   "cell_type": "code",
   "execution_count": 9,
   "metadata": {},
   "outputs": [],
   "source": [
    "model_onlyTatil = pm.auto_arima(daily_data[\"Consumption\"][:\"2018\"], exogenous=tatil_df,\n",
    "                     max_d = 2, max_p=10, max_q=10, max_P=10, max_Q=10, max_D = 10, seasonal=True,\n",
    "                     m=7,\n",
    "                     stepwise=True, suppress_warnings=True, with_intercept=True,\n",
    "                     error_action='ignore',maxiter = 50)"
   ]
  },
  {
   "cell_type": "code",
   "execution_count": 10,
   "metadata": {},
   "outputs": [],
   "source": [
    "haftasonu_df = pd.DataFrame(tatil_data[:\"2018\"][\"Haftasonu\"])\n",
    "haftasonu_df.index = daily_data[:\"2018\"].index"
   ]
  },
  {
   "cell_type": "code",
   "execution_count": 11,
   "metadata": {},
   "outputs": [],
   "source": [
    "model_onlyHaftasonu = pm.auto_arima(daily_data[\"Consumption\"][:\"2018\"], exogenous=haftasonu_df,\n",
    "                     max_d = 2, max_p=10, max_q=10, max_P=10, max_Q=10, max_D = 10, seasonal=True,\n",
    "                     m=7,\n",
    "                     stepwise=True, suppress_warnings=True, with_intercept=True,\n",
    "                     error_action='ignore',maxiter = 50)"
   ]
  },
  {
   "cell_type": "code",
   "execution_count": 12,
   "metadata": {
    "colab": {},
    "colab_type": "code",
    "executionInfo": {
     "elapsed": 737548,
     "status": "ok",
     "timestamp": 1593135314875,
     "user": {
      "displayName": "BB",
      "photoUrl": "https://lh3.googleusercontent.com/a-/AOh14GiYAiq3AjaJQ1ZhYvlUUzg2nndBOih45X2t2nwSzg=s64",
      "userId": "03290121034815038333"
     },
     "user_tz": -120
    },
    "id": "4_P4gfaic45l"
   },
   "outputs": [],
   "source": [
    "bayram_tatil_df = pd.DataFrame(tatil_data[:\"2018\"][[\"Bayram\",\"Tatil\"]])\n",
    "bayram_tatil_df.index = daily_data[:\"2018\"].index\n"
   ]
  },
  {
   "cell_type": "code",
   "execution_count": 13,
   "metadata": {
    "colab": {},
    "colab_type": "code",
    "executionInfo": {
     "elapsed": 1328026,
     "status": "ok",
     "timestamp": 1593135905387,
     "user": {
      "displayName": "BB",
      "photoUrl": "https://lh3.googleusercontent.com/a-/AOh14GiYAiq3AjaJQ1ZhYvlUUzg2nndBOih45X2t2nwSzg=s64",
      "userId": "03290121034815038333"
     },
     "user_tz": -120
    },
    "id": "UfAqnFe7c45y"
   },
   "outputs": [],
   "source": [
    "model_noHaftasonu = pm.auto_arima(daily_data[\"Consumption\"][:\"2018\"], exogenous=bayram_tatil_df,\n",
    "                     max_d = 2, max_p=10, max_q=10, max_P=10, max_Q=10, max_D = 10, seasonal=True,\n",
    "                     m=7,\n",
    "                     stepwise=True, suppress_warnings=True, with_intercept=True,\n",
    "                     error_action='ignore',maxiter = 50)"
   ]
  },
  {
   "cell_type": "code",
   "execution_count": 14,
   "metadata": {},
   "outputs": [],
   "source": [
    "haftasonu_tatil_df = pd.DataFrame(tatil_data[:\"2018\"][[\"Tatil\",\"Haftasonu\"]])\n",
    "haftasonu_tatil_df.index = daily_data[:\"2018\"].index\n"
   ]
  },
  {
   "cell_type": "code",
   "execution_count": 15,
   "metadata": {},
   "outputs": [],
   "source": [
    "model_noBayram = pm.auto_arima(daily_data[\"Consumption\"][:\"2018\"], exogenous=haftasonu_tatil_df,\n",
    "                     max_d = 2, max_p=10, max_q=10, max_P=10, max_Q=10, max_D = 10, seasonal=True,\n",
    "                     m=7,\n",
    "                     stepwise=True, suppress_warnings=True, with_intercept=True,\n",
    "                     error_action='ignore',maxiter = 50)"
   ]
  },
  {
   "cell_type": "code",
   "execution_count": 16,
   "metadata": {
    "colab": {},
    "colab_type": "code",
    "executionInfo": {
     "elapsed": 1328010,
     "status": "ok",
     "timestamp": 1593135905398,
     "user": {
      "displayName": "BB",
      "photoUrl": "https://lh3.googleusercontent.com/a-/AOh14GiYAiq3AjaJQ1ZhYvlUUzg2nndBOih45X2t2nwSzg=s64",
      "userId": "03290121034815038333"
     },
     "user_tz": -120
    },
    "id": "fpZebC2oc457"
   },
   "outputs": [],
   "source": [
    "bayram_hs_df = pd.DataFrame(tatil_data[:\"2018\"][[\"Bayram\",\"Haftasonu\"]])\n",
    "bayram_hs_df.index = daily_data[:\"2018\"].index\n"
   ]
  },
  {
   "cell_type": "code",
   "execution_count": 17,
   "metadata": {
    "colab": {},
    "colab_type": "code",
    "executionInfo": {
     "elapsed": 2071839,
     "status": "ok",
     "timestamp": 1593136649261,
     "user": {
      "displayName": "BB",
      "photoUrl": "https://lh3.googleusercontent.com/a-/AOh14GiYAiq3AjaJQ1ZhYvlUUzg2nndBOih45X2t2nwSzg=s64",
      "userId": "03290121034815038333"
     },
     "user_tz": -120
    },
    "id": "dn48CWKrc46E"
   },
   "outputs": [],
   "source": [
    "model_noTatil = pm.auto_arima(daily_data[\"Consumption\"][:\"2018\"], exogenous=bayram_hs_df,\n",
    "                     max_d = 2, max_p=10, max_q=10, max_P=10, max_Q=10, max_D = 10, seasonal=True,\n",
    "                     m=7,\n",
    "                     stepwise=True, suppress_warnings=True, with_intercept=True,\n",
    "                     error_action='ignore',maxiter = 50)"
   ]
  },
  {
   "cell_type": "code",
   "execution_count": 18,
   "metadata": {
    "colab": {},
    "colab_type": "code",
    "executionInfo": {
     "elapsed": 2351578,
     "status": "ok",
     "timestamp": 1593136929024,
     "user": {
      "displayName": "BB",
      "photoUrl": "https://lh3.googleusercontent.com/a-/AOh14GiYAiq3AjaJQ1ZhYvlUUzg2nndBOih45X2t2nwSzg=s64",
      "userId": "03290121034815038333"
     },
     "user_tz": -120
    },
    "id": "DVfy7WM-c46N"
   },
   "outputs": [],
   "source": [
    "model_all = pm.auto_arima(daily_data[\"Consumption\"][:\"2018\"], exogenous=tatil_data[:\"2018\"],\n",
    "                     max_d = 2, max_p=10, max_q=10, max_P=10, max_Q=10, max_D = 10, seasonal=True,\n",
    "                     m=7,\n",
    "                     stepwise=True, suppress_warnings=True, with_intercept=True,\n",
    "                     error_action='ignore',maxiter = 50)\n"
   ]
  },
  {
   "cell_type": "code",
   "execution_count": 19,
   "metadata": {
    "colab": {},
    "colab_type": "code",
    "executionInfo": {
     "elapsed": 2351555,
     "status": "ok",
     "timestamp": 1593136929029,
     "user": {
      "displayName": "BB",
      "photoUrl": "https://lh3.googleusercontent.com/a-/AOh14GiYAiq3AjaJQ1ZhYvlUUzg2nndBOih45X2t2nwSzg=s64",
      "userId": "03290121034815038333"
     },
     "user_tz": -120
    },
    "id": "8NUibVerc46W"
   },
   "outputs": [],
   "source": [
    "#Models Dictionary\n",
    "models = {\"No Exogenous Model\":model_noExog,\n",
    "          \"Only Bayram Exog. Model\":model_onlyBayram,\n",
    "          \"Only Tatil Exog. Model\":model_onlyTatil,\n",
    "          \"Only Haftasonu Exog. Model\":model_onlyHaftasonu,\n",
    "          \"No Bayram Model\":model_noBayram,\n",
    "          \"No Haftasonu Model\":model_noHaftasonu,\n",
    "          \"No Tatil Model\":model_noTatil,\n",
    "          \"All Including Model\":model_all}"
   ]
  },
  {
   "cell_type": "code",
   "execution_count": 20,
   "metadata": {
    "colab": {
     "base_uri": "https://localhost:8080/",
     "height": 799
    },
    "colab_type": "code",
    "executionInfo": {
     "elapsed": 2351525,
     "status": "ok",
     "timestamp": 1593136929033,
     "user": {
      "displayName": "BB",
      "photoUrl": "https://lh3.googleusercontent.com/a-/AOh14GiYAiq3AjaJQ1ZhYvlUUzg2nndBOih45X2t2nwSzg=s64",
      "userId": "03290121034815038333"
     },
     "user_tz": -120
    },
    "id": "H26NLizMc46f",
    "outputId": "9a80e14a-0c71-455f-b0b3-7f81eee5a2cc"
   },
   "outputs": [
    {
     "data": {
      "text/html": [
       "<table class=\"simpletable\">\n",
       "<caption>SARIMAX Results</caption>\n",
       "<tr>\n",
       "  <th>Dep. Variable:</th>                  <td>y</td>                <th>  No. Observations:  </th>    <td>1096</td>   \n",
       "</tr>\n",
       "<tr>\n",
       "  <th>Model:</th>           <td>SARIMAX(3, 1, 2)x(1, 0, [1], 7)</td> <th>  Log Likelihood     </th> <td>-12834.515</td>\n",
       "</tr>\n",
       "<tr>\n",
       "  <th>Date:</th>                   <td>Wed, 01 Jul 2020</td>         <th>  AIC                </th>  <td>25693.030</td>\n",
       "</tr>\n",
       "<tr>\n",
       "  <th>Time:</th>                       <td>01:39:26</td>             <th>  BIC                </th>  <td>25753.012</td>\n",
       "</tr>\n",
       "<tr>\n",
       "  <th>Sample:</th>                    <td>01-01-2016</td>            <th>  HQIC               </th>  <td>25715.727</td>\n",
       "</tr>\n",
       "<tr>\n",
       "  <th></th>                          <td>- 12-31-2018</td>           <th>                     </th>      <td> </td>    \n",
       "</tr>\n",
       "<tr>\n",
       "  <th>Covariance Type:</th>               <td>opg</td>               <th>                     </th>      <td> </td>    \n",
       "</tr>\n",
       "</table>\n",
       "<table class=\"simpletable\">\n",
       "<tr>\n",
       "      <td></td>         <th>coef</th>     <th>std err</th>      <th>z</th>      <th>P>|z|</th>  <th>[0.025</th>    <th>0.975]</th>  \n",
       "</tr>\n",
       "<tr>\n",
       "  <th>intercept</th> <td>    3.1079</td> <td>    6.092</td> <td>    0.510</td> <td> 0.610</td> <td>   -8.833</td> <td>   15.049</td>\n",
       "</tr>\n",
       "<tr>\n",
       "  <th>Tatil</th>     <td> 8901.1674</td> <td> 5980.198</td> <td>    1.488</td> <td> 0.137</td> <td>-2819.804</td> <td> 2.06e+04</td>\n",
       "</tr>\n",
       "<tr>\n",
       "  <th>Bayram</th>    <td>-7.312e+04</td> <td> 9488.346</td> <td>   -7.707</td> <td> 0.000</td> <td>-9.17e+04</td> <td>-5.45e+04</td>\n",
       "</tr>\n",
       "<tr>\n",
       "  <th>Haftasonu</th> <td>-5.077e+04</td> <td> 1.19e+04</td> <td>   -4.283</td> <td> 0.000</td> <td> -7.4e+04</td> <td>-2.75e+04</td>\n",
       "</tr>\n",
       "<tr>\n",
       "  <th>ar.L1</th>     <td>    0.0112</td> <td>    0.733</td> <td>    0.015</td> <td> 0.988</td> <td>   -1.425</td> <td>    1.448</td>\n",
       "</tr>\n",
       "<tr>\n",
       "  <th>ar.L2</th>     <td>    0.9377</td> <td>    0.738</td> <td>    1.270</td> <td> 0.204</td> <td>   -0.509</td> <td>    2.385</td>\n",
       "</tr>\n",
       "<tr>\n",
       "  <th>ar.L3</th>     <td>   -0.0734</td> <td>    0.057</td> <td>   -1.278</td> <td> 0.201</td> <td>   -0.186</td> <td>    0.039</td>\n",
       "</tr>\n",
       "<tr>\n",
       "  <th>ma.L1</th>     <td>    0.0086</td> <td>    0.773</td> <td>    0.011</td> <td> 0.991</td> <td>   -1.506</td> <td>    1.523</td>\n",
       "</tr>\n",
       "<tr>\n",
       "  <th>ma.L2</th>     <td>   -0.9914</td> <td>    0.766</td> <td>   -1.294</td> <td> 0.196</td> <td>   -2.493</td> <td>    0.510</td>\n",
       "</tr>\n",
       "<tr>\n",
       "  <th>ar.S.L7</th>   <td>    0.9620</td> <td>    0.009</td> <td>  107.035</td> <td> 0.000</td> <td>    0.944</td> <td>    0.980</td>\n",
       "</tr>\n",
       "<tr>\n",
       "  <th>ma.S.L7</th>   <td>   -0.8005</td> <td>    0.023</td> <td>  -35.569</td> <td> 0.000</td> <td>   -0.845</td> <td>   -0.756</td>\n",
       "</tr>\n",
       "<tr>\n",
       "  <th>sigma2</th>    <td>  1.48e+09</td> <td>    0.018</td> <td> 8.42e+10</td> <td> 0.000</td> <td> 1.48e+09</td> <td> 1.48e+09</td>\n",
       "</tr>\n",
       "</table>\n",
       "<table class=\"simpletable\">\n",
       "<tr>\n",
       "  <th>Ljung-Box (Q):</th>          <td>350.09</td> <th>  Jarque-Bera (JB):  </th> <td>3303.96</td>\n",
       "</tr>\n",
       "<tr>\n",
       "  <th>Prob(Q):</th>                 <td>0.00</td>  <th>  Prob(JB):          </th>  <td>0.00</td>  \n",
       "</tr>\n",
       "<tr>\n",
       "  <th>Heteroskedasticity (H):</th>  <td>0.60</td>  <th>  Skew:              </th>  <td>-0.12</td> \n",
       "</tr>\n",
       "<tr>\n",
       "  <th>Prob(H) (two-sided):</th>     <td>0.00</td>  <th>  Kurtosis:          </th>  <td>11.51</td> \n",
       "</tr>\n",
       "</table><br/><br/>Warnings:<br/>[1] Covariance matrix calculated using the outer product of gradients (complex-step).<br/>[2] Covariance matrix is singular or near-singular, with condition number 6.64e+27. Standard errors may be unstable."
      ],
      "text/plain": [
       "<class 'statsmodels.iolib.summary.Summary'>\n",
       "\"\"\"\n",
       "                                      SARIMAX Results                                      \n",
       "===========================================================================================\n",
       "Dep. Variable:                                   y   No. Observations:                 1096\n",
       "Model:             SARIMAX(3, 1, 2)x(1, 0, [1], 7)   Log Likelihood              -12834.515\n",
       "Date:                             Wed, 01 Jul 2020   AIC                          25693.030\n",
       "Time:                                     01:39:26   BIC                          25753.012\n",
       "Sample:                                 01-01-2016   HQIC                         25715.727\n",
       "                                      - 12-31-2018                                         \n",
       "Covariance Type:                               opg                                         \n",
       "==============================================================================\n",
       "                 coef    std err          z      P>|z|      [0.025      0.975]\n",
       "------------------------------------------------------------------------------\n",
       "intercept      3.1079      6.092      0.510      0.610      -8.833      15.049\n",
       "Tatil       8901.1674   5980.198      1.488      0.137   -2819.804    2.06e+04\n",
       "Bayram     -7.312e+04   9488.346     -7.707      0.000   -9.17e+04   -5.45e+04\n",
       "Haftasonu  -5.077e+04   1.19e+04     -4.283      0.000    -7.4e+04   -2.75e+04\n",
       "ar.L1          0.0112      0.733      0.015      0.988      -1.425       1.448\n",
       "ar.L2          0.9377      0.738      1.270      0.204      -0.509       2.385\n",
       "ar.L3         -0.0734      0.057     -1.278      0.201      -0.186       0.039\n",
       "ma.L1          0.0086      0.773      0.011      0.991      -1.506       1.523\n",
       "ma.L2         -0.9914      0.766     -1.294      0.196      -2.493       0.510\n",
       "ar.S.L7        0.9620      0.009    107.035      0.000       0.944       0.980\n",
       "ma.S.L7       -0.8005      0.023    -35.569      0.000      -0.845      -0.756\n",
       "sigma2       1.48e+09      0.018   8.42e+10      0.000    1.48e+09    1.48e+09\n",
       "===================================================================================\n",
       "Ljung-Box (Q):                      350.09   Jarque-Bera (JB):              3303.96\n",
       "Prob(Q):                              0.00   Prob(JB):                         0.00\n",
       "Heteroskedasticity (H):               0.60   Skew:                            -0.12\n",
       "Prob(H) (two-sided):                  0.00   Kurtosis:                        11.51\n",
       "===================================================================================\n",
       "\n",
       "Warnings:\n",
       "[1] Covariance matrix calculated using the outer product of gradients (complex-step).\n",
       "[2] Covariance matrix is singular or near-singular, with condition number 6.64e+27. Standard errors may be unstable.\n",
       "\"\"\""
      ]
     },
     "execution_count": 20,
     "metadata": {},
     "output_type": "execute_result"
    }
   ],
   "source": [
    "\n",
    "model_all.summary()"
   ]
  },
  {
   "cell_type": "markdown",
   "metadata": {
    "colab_type": "text",
    "id": "b4AnPqb-c46q",
    "scrolled": true
   },
   "source": [
    "### Fitting models"
   ]
  },
  {
   "cell_type": "code",
   "execution_count": 21,
   "metadata": {
    "colab": {},
    "colab_type": "code",
    "executionInfo": {
     "elapsed": 2390323,
     "status": "ok",
     "timestamp": 1593136967869,
     "user": {
      "displayName": "BB",
      "photoUrl": "https://lh3.googleusercontent.com/a-/AOh14GiYAiq3AjaJQ1ZhYvlUUzg2nndBOih45X2t2nwSzg=s64",
      "userId": "03290121034815038333"
     },
     "user_tz": -120
    },
    "id": "nZPfXxs0c46s"
   },
   "outputs": [],
   "source": [
    "model_noExog_fit = model_noExog.fit(daily_data[\"Consumption\"][:\"2018\"])\n",
    "\n",
    "model_onlyBayram_fit = model_onlyBayram.fit(daily_data[\"Consumption\"][:\"2018\"],exogenous=bayram_df)\n",
    "model_onlyTatil_fit = model_onlyBayram.fit(daily_data[\"Consumption\"][:\"2018\"],exogenous=tatil_df)\n",
    "model_onlyHaftasonu_fit = model_onlyBayram.fit(daily_data[\"Consumption\"][:\"2018\"],exogenous=haftasonu_df)\n",
    "\n",
    "model_noHaftasonu_fit = model_noHaftasonu.fit(daily_data[\"Consumption\"][:\"2018\"],exogenous=bayram_tatil_df)\n",
    "model_noTatil_fit = model_noTatil.fit(daily_data[\"Consumption\"][:\"2018\"],exogenous=bayram_hs_df)\n",
    "model_noBayram_fit = model_noTatil.fit(daily_data[\"Consumption\"][:\"2018\"],exogenous=haftasonu_tatil_df)\n",
    "\n",
    "model_all_fit = model_all.fit(daily_data[\"Consumption\"][:\"2018\"],exogenous=tatil_data[:\"2018\"])\n",
    "\n",
    "\n",
    "models_fit = {\"No Exogenous Model\":model_noExog_fit,\n",
    "          \"Only Bayram Exog. Model\":model_onlyBayram_fit,\n",
    "          \"Only Tatil Exog. Model\":model_onlyTatil_fit,\n",
    "          \"Only Haftasonu Exog. Model\":model_onlyHaftasonu_fit,\n",
    "          \"No Bayram Exog. Model\":model_noBayram_fit,\n",
    "          \"No Haftasonu Model\":model_noHaftasonu_fit,\n",
    "          \"No Tatil Model\":model_noTatil_fit,\n",
    "          \"All Including Model\":model_all_fit}\n",
    "#fitting the daily training data"
   ]
  },
  {
   "cell_type": "code",
   "execution_count": 22,
   "metadata": {
    "colab": {},
    "colab_type": "code",
    "executionInfo": {
     "elapsed": 2390305,
     "status": "ok",
     "timestamp": 1593136967874,
     "user": {
      "displayName": "BB",
      "photoUrl": "https://lh3.googleusercontent.com/a-/AOh14GiYAiq3AjaJQ1ZhYvlUUzg2nndBOih45X2t2nwSzg=s64",
      "userId": "03290121034815038333"
     },
     "user_tz": -120
    },
    "id": "R2fSL_coc461"
   },
   "outputs": [],
   "source": [
    "def forecast_update(testData,model,tatilData):\n",
    "    forecast = pd.DataFrame(np.zeros(testData.index.size),index=testData.index,columns=[\"Consumption\"])\n",
    "    for i,j in testData.iteritems() :\n",
    "        forecast.loc[i]= model.predict(exogenous=np.array(tatilData.loc[i]).reshape(1,-1),n_periods=1)[0]\n",
    "        model.update(testData.loc[i],exogenous=np.array(tatilData.loc[i]).reshape(1,-1))\n",
    "    return forecast\n",
    "\n"
   ]
  },
  {
   "cell_type": "code",
   "execution_count": 23,
   "metadata": {
    "colab": {
     "base_uri": "https://localhost:8080/",
     "height": 34
    },
    "colab_type": "code",
    "executionInfo": {
     "elapsed": 2390288,
     "status": "ok",
     "timestamp": 1593136967880,
     "user": {
      "displayName": "BB",
      "photoUrl": "https://lh3.googleusercontent.com/a-/AOh14GiYAiq3AjaJQ1ZhYvlUUzg2nndBOih45X2t2nwSzg=s64",
      "userId": "03290121034815038333"
     },
     "user_tz": -120
    },
    "id": "sIW-47e3_JOJ",
    "outputId": "ccb33cff-2b0f-474e-b8f2-2ef3a14fd4c6"
   },
   "outputs": [
    {
     "data": {
      "text/plain": [
       "True"
      ]
     },
     "execution_count": 23,
     "metadata": {},
     "output_type": "execute_result"
    }
   ],
   "source": [
    "type(daily_data) is pd.DataFrame"
   ]
  },
  {
   "cell_type": "code",
   "execution_count": 24,
   "metadata": {
    "colab": {},
    "colab_type": "code",
    "executionInfo": {
     "elapsed": 2390266,
     "status": "ok",
     "timestamp": 1593136967883,
     "user": {
      "displayName": "BB",
      "photoUrl": "https://lh3.googleusercontent.com/a-/AOh14GiYAiq3AjaJQ1ZhYvlUUzg2nndBOih45X2t2nwSzg=s64",
      "userId": "03290121034815038333"
     },
     "user_tz": -120
    },
    "id": "h8xjfg4nc469"
   },
   "outputs": [],
   "source": [
    "## EXOGENOUS VARIABLES FOR TEST\n",
    "\n",
    "bayram_b_hs_df = pd.DataFrame(tatil_data[[\"Bayram\",\"Haftasonu\"]][\"2019-01-01\":\"2019-12-31\"])\n",
    "bayram_b_hs_df.index = daily_data[\"2019\"].index\n",
    "\n",
    "bayram_b_t_df = pd.DataFrame(tatil_data[[\"Bayram\",\"Tatil\"]][\"2019-01-01\":\"2019-12-31\"])\n",
    "bayram_b_t_df.index = daily_data[\"2019\"].index\n",
    "\n",
    "bayram_t_hs_df = pd.DataFrame(tatil_data[[\"Tatil\",\"Haftasonu\"]][\"2019-01-01\":\"2019-12-31\"])\n",
    "bayram_t_hs_df.index = daily_data[\"2019\"].index\n",
    "\n",
    "bayram_b_df = pd.DataFrame(tatil_data[\"Bayram\"][\"2019-01-01\":\"2019-12-31\"])\n",
    "bayram_b_df.index = daily_data[\"2019\"].index\n",
    "\n",
    "bayram_t_df = pd.DataFrame(tatil_data[\"Tatil\"][\"2019-01-01\":\"2019-12-31\"])\n",
    "bayram_t_df.index = daily_data[\"2019\"].index\n",
    "\n",
    "bayram_hs_df = pd.DataFrame(tatil_data[\"Haftasonu\"][\"2019-01-01\":\"2019-12-31\"])\n",
    "bayram_hs_df.index = daily_data[\"2019\"].index\n"
   ]
  },
  {
   "cell_type": "code",
   "execution_count": 25,
   "metadata": {
    "colab": {},
    "colab_type": "code",
    "executionInfo": {
     "elapsed": 5080608,
     "status": "ok",
     "timestamp": 1593139658249,
     "user": {
      "displayName": "BB",
      "photoUrl": "https://lh3.googleusercontent.com/a-/AOh14GiYAiq3AjaJQ1ZhYvlUUzg2nndBOih45X2t2nwSzg=s64",
      "userId": "03290121034815038333"
     },
     "user_tz": -120
    },
    "id": "2QQicCRhc47L"
   },
   "outputs": [
    {
     "ename": "NameError",
     "evalue": "name 'bayram_hs_b_df' is not defined",
     "output_type": "error",
     "traceback": [
      "\u001b[1;31m---------------------------------------------------------------------------\u001b[0m",
      "\u001b[1;31mNameError\u001b[0m                                 Traceback (most recent call last)",
      "\u001b[1;32m<ipython-input-25-fb2f64842493>\u001b[0m in \u001b[0;36m<module>\u001b[1;34m\u001b[0m\n\u001b[0;32m      8\u001b[0m \u001b[0mforecast_noBayram\u001b[0m \u001b[1;33m=\u001b[0m \u001b[0mforecast_update\u001b[0m\u001b[1;33m(\u001b[0m\u001b[0mdaily_data\u001b[0m\u001b[1;33m[\u001b[0m\u001b[1;34m\"Consumption\"\u001b[0m\u001b[1;33m]\u001b[0m\u001b[1;33m[\u001b[0m\u001b[1;34m\"2019-01-01\"\u001b[0m\u001b[1;33m:\u001b[0m\u001b[1;34m\"2019-12-31\"\u001b[0m\u001b[1;33m]\u001b[0m\u001b[1;33m,\u001b[0m\u001b[0mmodel_noBayram_fit\u001b[0m\u001b[1;33m,\u001b[0m\u001b[0mbayram_t_hs_df\u001b[0m\u001b[1;33m)\u001b[0m\u001b[1;33m\u001b[0m\u001b[1;33m\u001b[0m\u001b[0m\n\u001b[0;32m      9\u001b[0m \u001b[0mforecast_noHaftasonu\u001b[0m \u001b[1;33m=\u001b[0m \u001b[0mforecast_update\u001b[0m\u001b[1;33m(\u001b[0m\u001b[0mdaily_data\u001b[0m\u001b[1;33m[\u001b[0m\u001b[1;34m\"Consumption\"\u001b[0m\u001b[1;33m]\u001b[0m\u001b[1;33m[\u001b[0m\u001b[1;34m\"2019-01-01\"\u001b[0m\u001b[1;33m:\u001b[0m\u001b[1;34m\"2019-12-31\"\u001b[0m\u001b[1;33m]\u001b[0m\u001b[1;33m,\u001b[0m\u001b[0mmodel_noHaftasonu_fit\u001b[0m\u001b[1;33m,\u001b[0m\u001b[0mbayram_b_t_df\u001b[0m\u001b[1;33m)\u001b[0m\u001b[1;33m\u001b[0m\u001b[1;33m\u001b[0m\u001b[0m\n\u001b[1;32m---> 10\u001b[1;33m \u001b[0mforecast_noTatil\u001b[0m \u001b[1;33m=\u001b[0m \u001b[0mforecast_update\u001b[0m\u001b[1;33m(\u001b[0m\u001b[0mdaily_data\u001b[0m\u001b[1;33m[\u001b[0m\u001b[1;34m\"Consumption\"\u001b[0m\u001b[1;33m]\u001b[0m\u001b[1;33m[\u001b[0m\u001b[1;34m\"2019-01-01\"\u001b[0m\u001b[1;33m:\u001b[0m\u001b[1;34m\"2019-12-31\"\u001b[0m\u001b[1;33m]\u001b[0m\u001b[1;33m,\u001b[0m\u001b[0mmodel_noTatil_fit\u001b[0m\u001b[1;33m,\u001b[0m\u001b[0mbayram_hs_b_df\u001b[0m\u001b[1;33m)\u001b[0m\u001b[1;33m\u001b[0m\u001b[1;33m\u001b[0m\u001b[0m\n\u001b[0m\u001b[0;32m     11\u001b[0m \u001b[1;33m\u001b[0m\u001b[0m\n\u001b[0;32m     12\u001b[0m \u001b[0mforecast_all\u001b[0m \u001b[1;33m=\u001b[0m \u001b[0mforecast_update\u001b[0m\u001b[1;33m(\u001b[0m\u001b[0mdaily_data\u001b[0m\u001b[1;33m[\u001b[0m\u001b[1;34m\"Consumption\"\u001b[0m\u001b[1;33m]\u001b[0m\u001b[1;33m[\u001b[0m\u001b[1;34m\"2019-01-01\"\u001b[0m\u001b[1;33m:\u001b[0m\u001b[1;34m\"2019-12-31\"\u001b[0m\u001b[1;33m]\u001b[0m\u001b[1;33m,\u001b[0m\u001b[0mmodel_all_fit\u001b[0m\u001b[1;33m,\u001b[0m\u001b[0mtatil_data\u001b[0m\u001b[1;33m[\u001b[0m\u001b[1;34m\"2019-01-01\"\u001b[0m\u001b[1;33m:\u001b[0m\u001b[1;34m\"2019-12-31\"\u001b[0m\u001b[1;33m]\u001b[0m\u001b[1;33m)\u001b[0m\u001b[1;33m\u001b[0m\u001b[1;33m\u001b[0m\u001b[0m\n",
      "\u001b[1;31mNameError\u001b[0m: name 'bayram_hs_b_df' is not defined"
     ]
    }
   ],
   "source": [
    "#Forecasts with one step at a time and updating the model\n",
    "\n",
    "forecast_onlyBayram = forecast_update(daily_data[\"Consumption\"][\"2019-01-01\":\"2019-12-31\"],model_onlyBayram_fit,bayram_b_df)\n",
    "forecast_onlyTatil = forecast_update(daily_data[\"Consumption\"][\"2019-01-01\":\"2019-12-31\"],model_onlyTatil_fit,bayram_t_df)\n",
    "forecast_onlyHaftasonu = forecast_update(daily_data[\"Consumption\"][\"2019-01-01\":\"2019-12-31\"],model_onlyHaftasonu_fit,bayram_hs_df)\n",
    "\n",
    "\n",
    "forecast_noBayram = forecast_update(daily_data[\"Consumption\"][\"2019-01-01\":\"2019-12-31\"],model_noBayram_fit,bayram_t_hs_df)\n",
    "forecast_noHaftasonu = forecast_update(daily_data[\"Consumption\"][\"2019-01-01\":\"2019-12-31\"],model_noHaftasonu_fit,bayram_b_t_df)\n",
    "forecast_noTatil = forecast_update(daily_data[\"Consumption\"][\"2019-01-01\":\"2019-12-31\"],model_noTatil_fit,bayram_hs_b_df)\n",
    "\n",
    "forecast_all = forecast_update(daily_data[\"Consumption\"][\"2019-01-01\":\"2019-12-31\"],model_all_fit,tatil_data[\"2019-01-01\":\"2019-12-31\"])\n",
    "forecast_noExog = pd.DataFrame(np.zeros(daily_data[\"Consumption\"][\"2019-01-01\":\"2019-12-31\"].index.size),index=daily_data[\"Consumption\"][\"2019-01-01\":\"2019-12-31\"].index,columns=[\"Consumption\"])\n",
    "\n",
    "for i,j in daily_data[\"Consumption\"][\"2019-01-01\":\"2019-12-31\"].iteritems() :\n",
    "      forecast_noExog.loc[i]= model_noExog_fit.predict(n_periods=1)[0]\n",
    "      model_noExog_fit.update(daily_data[\"Consumption\"][\"2019-01-01\":\"2019-12-31\"].loc[i])\n",
    "\n",
    "models_forecast = {\"No Exogenous Model\":forecast_noExog,\n",
    "         \"Only Bayram Exog. Model\":forecast_onlyBayram,\n",
    "         \"Only Tatil Exog. Model\":forecast_onlyTatil,\n",
    "         \"Only Haftasonu Exog. Model\":forecast_onlyHaftasonu,\n",
    "         \"No Bayram Exog. Model\":forecast_noBayram,                  \n",
    "         \"No Haftasonu Model\":forecast_noHaftasonu,\n",
    "        \"No Tatil Model\":forecast_noTatil,\n",
    "         \"All Including Model\":forecast_all}"
   ]
  },
  {
   "cell_type": "code",
   "execution_count": null,
   "metadata": {
    "colab": {
     "base_uri": "https://localhost:8080/",
     "height": 697
    },
    "colab_type": "code",
    "executionInfo": {
     "elapsed": 5082254,
     "status": "ok",
     "timestamp": 1593139660023,
     "user": {
      "displayName": "BB",
      "photoUrl": "https://lh3.googleusercontent.com/a-/AOh14GiYAiq3AjaJQ1ZhYvlUUzg2nndBOih45X2t2nwSzg=s64",
      "userId": "03290121034815038333"
     },
     "user_tz": -120
    },
    "id": "DrGNj98tc47t",
    "outputId": "1ef5fb3e-c518-4b2e-e6ae-be59722edb9e"
   },
   "outputs": [],
   "source": [
    "mapes = {}\n",
    "for model in models_forecast :\n",
    "    print(\"\\n\")\n",
    "    print(\"-\"*10,model,\"-\"*10)\n",
    "    errors = (daily_data_test[\"2019-01-01\":\"2019-12-31\"]-models_forecast[model])\n",
    "    errors_percentage = ((errors/daily_data_test[\"2019-01-01\":\"2019-12-31\"])*100)\n",
    "    models_errors[model] = [errors,errors_percentage]\n",
    "    MPE = errors_percentage.mean()[0]\n",
    "    MAPE = abs(errors_percentage).mean()[0]\n",
    "    mapes[model] = MAPE "
   ]
  },
  {
   "cell_type": "code",
   "execution_count": null,
   "metadata": {
    "colab": {
     "base_uri": "https://localhost:8080/",
     "height": 71
    },
    "colab_type": "code",
    "executionInfo": {
     "elapsed": 648,
     "status": "ok",
     "timestamp": 1593139804727,
     "user": {
      "displayName": "BB",
      "photoUrl": "https://lh3.googleusercontent.com/a-/AOh14GiYAiq3AjaJQ1ZhYvlUUzg2nndBOih45X2t2nwSzg=s64",
      "userId": "03290121034815038333"
     },
     "user_tz": -120
    },
    "id": "OK54oVj8c474",
    "outputId": "bb6ab115-0dbb-4dcf-9b0d-19c772b934c8"
   },
   "outputs": [],
   "source": [
    "print(\"Best Mape is: \",min(mapes, key=mapes.get))"
   ]
  },
  {
   "cell_type": "code",
   "execution_count": null,
   "metadata": {
    "colab": {
     "base_uri": "https://localhost:8080/",
     "height": 608
    },
    "colab_type": "code",
    "executionInfo": {
     "elapsed": 675,
     "status": "ok",
     "timestamp": 1593139806397,
     "user": {
      "displayName": "BB",
      "photoUrl": "https://lh3.googleusercontent.com/a-/AOh14GiYAiq3AjaJQ1ZhYvlUUzg2nndBOih45X2t2nwSzg=s64",
      "userId": "03290121034815038333"
     },
     "user_tz": -120
    },
    "id": "bVUtnumRc48B",
    "outputId": "b77123f5-803d-494b-c819-192e0d92b0de"
   },
   "outputs": [],
   "source": [
    "models[min(mapes, key=mapes.get)].summary()"
   ]
  },
  {
   "cell_type": "markdown",
   "metadata": {},
   "source": [
    "# Saving the best models predicts"
   ]
  },
  {
   "cell_type": "code",
   "execution_count": null,
   "metadata": {
    "colab": {},
    "colab_type": "code",
    "executionInfo": {
     "elapsed": 5081965,
     "status": "ok",
     "timestamp": 1593139660052,
     "user": {
      "displayName": "BB",
      "photoUrl": "https://lh3.googleusercontent.com/a-/AOh14GiYAiq3AjaJQ1ZhYvlUUzg2nndBOih45X2t2nwSzg=s64",
      "userId": "03290121034815038333"
     },
     "user_tz": -120
    },
    "id": "wzRfZteuc49T"
   },
   "outputs": [],
   "source": [
    "index_column = pd.date_range(start ='2019-1-1', end = '2019-12-31', freq ='D')\n",
    "best_pred = pd.DataFrame(models_forecast[min(mapes, key=mapes.get)],index=index_column)\n",
    "best_pred.to_csv(\"the_best_arima_pred.csv\",index = True)\n"
   ]
  },
  {
   "cell_type": "code",
   "execution_count": null,
   "metadata": {},
   "outputs": [],
   "source": [
    "mapes_df = pd.DataFrame.from_dict(mapes, orient='index')\n",
    "mapes_df.to_csv(\"mapes_arima.csv\",index=True)"
   ]
  },
  {
   "cell_type": "code",
   "execution_count": null,
   "metadata": {},
   "outputs": [],
   "source": [
    "mapes_df"
   ]
  }
 ],
 "metadata": {
  "colab": {
   "collapsed_sections": [],
   "name": "03-SARIMAX-model-vLast.ipynb",
   "provenance": []
  },
  "kernelspec": {
   "display_name": "Python 3",
   "language": "python",
   "name": "python3"
  },
  "language_info": {
   "codemirror_mode": {
    "name": "ipython",
    "version": 3
   },
   "file_extension": ".py",
   "mimetype": "text/x-python",
   "name": "python",
   "nbconvert_exporter": "python",
   "pygments_lexer": "ipython3",
   "version": "3.7.6"
  }
 },
 "nbformat": 4,
 "nbformat_minor": 1
}
